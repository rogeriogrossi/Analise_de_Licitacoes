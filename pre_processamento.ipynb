{
 "cells": [
  {
   "cell_type": "code",
   "execution_count": 1,
   "metadata": {
    "collapsed": true
   },
   "outputs": [],
   "source": [
    "import pandas as pd\n",
    "import os\n",
    "import spacy\n",
    "# Para spacy portugues rodar \"python -m spacy download pt\" no terminal\n",
    "from spacy.matcher import Matcher\n",
    "from time import time\n"
   ]
  },
  {
   "cell_type": "code",
   "execution_count": 2,
   "outputs": [
    {
     "data": {
      "text/plain": "True"
     },
     "execution_count": 2,
     "metadata": {},
     "output_type": "execute_result"
    }
   ],
   "source": [
    "# para usar o spacy com gpu rodar no terminal: pip install -U spacy[cuda]\n",
    "spacy.prefer_gpu()"
   ],
   "metadata": {
    "collapsed": false
   }
  },
  {
   "cell_type": "code",
   "execution_count": 3,
   "outputs": [],
   "source": [
    "PATH_CURRENT_DIRECTORY = os.getcwd()\n",
    "PATH_DATASETS = os.path.join(PATH_CURRENT_DIRECTORY,'datasets')"
   ],
   "metadata": {
    "collapsed": false
   }
  },
  {
   "cell_type": "markdown",
   "source": [
    "Os datasets serão armazenados em um dicionário cuja chave é o nome do arquivo e o valor é o dataset em si."
   ],
   "metadata": {
    "collapsed": false
   }
  },
  {
   "cell_type": "code",
   "execution_count": null,
   "outputs": [],
   "source": [
    "datasets = {}\n",
    "years = os.listdir(os.path.join(PATH_CURRENT_DIRECTORY, PATH_DATASETS))\n",
    "files_to_read = ['licitacao.csv','item.csv']\n",
    "\n",
    "for i, year in enumerate(years):\n",
    "    if i == 0:\n",
    "        for file in files_to_read:\n",
    "            df = pd.read_csv(os.path.join(PATH_DATASETS,year,file))\n",
    "            datasets[file.split('.')[0]] = df\n",
    "    else:\n",
    "        for file in files_to_read:\n",
    "            df = pd.read_csv(os.path.join(PATH_DATASETS,year,file))\n",
    "            datasets[file.split('.')[0]] = pd.concat([datasets[file.split('.')[0]],df], ignore_index=True)"
   ],
   "metadata": {
    "collapsed": false,
    "pycharm": {
     "is_executing": true
    }
   }
  },
  {
   "cell_type": "code",
   "execution_count": 5,
   "outputs": [],
   "source": [
    "datasets['licitacao'].reset_index(drop=True);\n",
    "datasets['item'].reset_index(drop=True);"
   ],
   "metadata": {
    "collapsed": false
   }
  },
  {
   "cell_type": "markdown",
   "source": [
    "# Licitações"
   ],
   "metadata": {
    "collapsed": false
   }
  },
  {
   "cell_type": "markdown",
   "source": [
    "## Exploração dos dados"
   ],
   "metadata": {
    "collapsed": false
   }
  },
  {
   "cell_type": "code",
   "execution_count": 6,
   "outputs": [
    {
     "data": {
      "text/plain": "   CD_ORGAO                NM_ORGAO  NR_LICITACAO  ANO_LICITACAO  \\\n0     84100  PM DE ESPERANÇA DO SUL           1.0           2016   \n1     84100  PM DE ESPERANÇA DO SUL           4.0           2016   \n2     82701         CM DE XANGRI-LÁ           1.0           2016   \n3     84100  PM DE ESPERANÇA DO SUL           6.0           2016   \n4     63900          PM DE COTIPORÃ          36.0           2016   \n\n  CD_TIPO_MODALIDADE  NR_COMISSAO  ANO_COMISSAO TP_COMISSAO NR_PROCESSO  \\\n0                CNV         12.0        2016.0           P         001   \n1                CNV         12.0        2016.0           P         003   \n2                PRP         12.0        2016.0           G          01   \n3                CNV         12.0        2016.0           P         005   \n4                PRD          NaN           NaN         NaN         344   \n\n   ANO_PROCESSO  ... TP_DOCUMENTO_FORNECEDOR NR_DOCUMENTO_FORNECEDOR  \\\n0        2016.0  ...                     NaN                     NaN   \n1        2016.0  ...                     NaN                     NaN   \n2        2016.0  ...                     NaN                     NaN   \n3        2016.0  ...                     NaN                     NaN   \n4        2016.0  ...                       J         9255424000171.0   \n\n  TP_DOCUMENTO_VENCEDOR NR_DOCUMENTO_VENCEDOR VL_HOMOLOGADO BL_GERA_DESPESA  \\\n0                     J       6233397000148.0        6420.0               S   \n1                   NaN                   NaN           NaN               S   \n2                   NaN                   NaN           NaN               S   \n3                   NaN                   NaN           NaN               S   \n4                   NaN                   NaN           NaN               S   \n\n  DS_OBSERVACAO PC_TX_ESTIMADA PC_TX_HOMOLOGADA BL_COMPARTILHADA  \n0           NaN            NaN              NaN                N  \n1           NaN            NaN              NaN                N  \n2           NaN            NaN              NaN                N  \n3           NaN            NaN              NaN                N  \n4           NaN            NaN              NaN                N  \n\n[5 rows x 61 columns]",
      "text/html": "<div>\n<style scoped>\n    .dataframe tbody tr th:only-of-type {\n        vertical-align: middle;\n    }\n\n    .dataframe tbody tr th {\n        vertical-align: top;\n    }\n\n    .dataframe thead th {\n        text-align: right;\n    }\n</style>\n<table border=\"1\" class=\"dataframe\">\n  <thead>\n    <tr style=\"text-align: right;\">\n      <th></th>\n      <th>CD_ORGAO</th>\n      <th>NM_ORGAO</th>\n      <th>NR_LICITACAO</th>\n      <th>ANO_LICITACAO</th>\n      <th>CD_TIPO_MODALIDADE</th>\n      <th>NR_COMISSAO</th>\n      <th>ANO_COMISSAO</th>\n      <th>TP_COMISSAO</th>\n      <th>NR_PROCESSO</th>\n      <th>ANO_PROCESSO</th>\n      <th>...</th>\n      <th>TP_DOCUMENTO_FORNECEDOR</th>\n      <th>NR_DOCUMENTO_FORNECEDOR</th>\n      <th>TP_DOCUMENTO_VENCEDOR</th>\n      <th>NR_DOCUMENTO_VENCEDOR</th>\n      <th>VL_HOMOLOGADO</th>\n      <th>BL_GERA_DESPESA</th>\n      <th>DS_OBSERVACAO</th>\n      <th>PC_TX_ESTIMADA</th>\n      <th>PC_TX_HOMOLOGADA</th>\n      <th>BL_COMPARTILHADA</th>\n    </tr>\n  </thead>\n  <tbody>\n    <tr>\n      <th>0</th>\n      <td>84100</td>\n      <td>PM DE ESPERANÇA DO SUL</td>\n      <td>1.0</td>\n      <td>2016</td>\n      <td>CNV</td>\n      <td>12.0</td>\n      <td>2016.0</td>\n      <td>P</td>\n      <td>001</td>\n      <td>2016.0</td>\n      <td>...</td>\n      <td>NaN</td>\n      <td>NaN</td>\n      <td>J</td>\n      <td>6233397000148.0</td>\n      <td>6420.0</td>\n      <td>S</td>\n      <td>NaN</td>\n      <td>NaN</td>\n      <td>NaN</td>\n      <td>N</td>\n    </tr>\n    <tr>\n      <th>1</th>\n      <td>84100</td>\n      <td>PM DE ESPERANÇA DO SUL</td>\n      <td>4.0</td>\n      <td>2016</td>\n      <td>CNV</td>\n      <td>12.0</td>\n      <td>2016.0</td>\n      <td>P</td>\n      <td>003</td>\n      <td>2016.0</td>\n      <td>...</td>\n      <td>NaN</td>\n      <td>NaN</td>\n      <td>NaN</td>\n      <td>NaN</td>\n      <td>NaN</td>\n      <td>S</td>\n      <td>NaN</td>\n      <td>NaN</td>\n      <td>NaN</td>\n      <td>N</td>\n    </tr>\n    <tr>\n      <th>2</th>\n      <td>82701</td>\n      <td>CM DE XANGRI-LÁ</td>\n      <td>1.0</td>\n      <td>2016</td>\n      <td>PRP</td>\n      <td>12.0</td>\n      <td>2016.0</td>\n      <td>G</td>\n      <td>01</td>\n      <td>2016.0</td>\n      <td>...</td>\n      <td>NaN</td>\n      <td>NaN</td>\n      <td>NaN</td>\n      <td>NaN</td>\n      <td>NaN</td>\n      <td>S</td>\n      <td>NaN</td>\n      <td>NaN</td>\n      <td>NaN</td>\n      <td>N</td>\n    </tr>\n    <tr>\n      <th>3</th>\n      <td>84100</td>\n      <td>PM DE ESPERANÇA DO SUL</td>\n      <td>6.0</td>\n      <td>2016</td>\n      <td>CNV</td>\n      <td>12.0</td>\n      <td>2016.0</td>\n      <td>P</td>\n      <td>005</td>\n      <td>2016.0</td>\n      <td>...</td>\n      <td>NaN</td>\n      <td>NaN</td>\n      <td>NaN</td>\n      <td>NaN</td>\n      <td>NaN</td>\n      <td>S</td>\n      <td>NaN</td>\n      <td>NaN</td>\n      <td>NaN</td>\n      <td>N</td>\n    </tr>\n    <tr>\n      <th>4</th>\n      <td>63900</td>\n      <td>PM DE COTIPORÃ</td>\n      <td>36.0</td>\n      <td>2016</td>\n      <td>PRD</td>\n      <td>NaN</td>\n      <td>NaN</td>\n      <td>NaN</td>\n      <td>344</td>\n      <td>2016.0</td>\n      <td>...</td>\n      <td>J</td>\n      <td>9255424000171.0</td>\n      <td>NaN</td>\n      <td>NaN</td>\n      <td>NaN</td>\n      <td>S</td>\n      <td>NaN</td>\n      <td>NaN</td>\n      <td>NaN</td>\n      <td>N</td>\n    </tr>\n  </tbody>\n</table>\n<p>5 rows × 61 columns</p>\n</div>"
     },
     "execution_count": 6,
     "metadata": {},
     "output_type": "execute_result"
    }
   ],
   "source": [
    "datasets['licitacao'].head()"
   ],
   "metadata": {
    "collapsed": false
   }
  },
  {
   "cell_type": "code",
   "execution_count": 7,
   "outputs": [
    {
     "data": {
      "text/plain": "(237011, 61)"
     },
     "execution_count": 7,
     "metadata": {},
     "output_type": "execute_result"
    }
   ],
   "source": [
    "datasets['licitacao'].shape"
   ],
   "metadata": {
    "collapsed": false
   }
  },
  {
   "cell_type": "code",
   "execution_count": 8,
   "outputs": [
    {
     "data": {
      "text/plain": "TP_OBJETO\nCOM    82405\nOUS    79473\nCSE    54830\nOSE    13730\nLOC     3413\nALB     1526\nCON     1020\nPER      614\nName: count, dtype: int64"
     },
     "execution_count": 8,
     "metadata": {},
     "output_type": "execute_result"
    }
   ],
   "source": [
    "datasets['licitacao'].TP_OBJETO.value_counts()"
   ],
   "metadata": {
    "collapsed": false
   }
  },
  {
   "cell_type": "markdown",
   "source": [
    "Apenas os processos de compra serão analisados"
   ],
   "metadata": {
    "collapsed": false
   }
  },
  {
   "cell_type": "code",
   "execution_count": 9,
   "outputs": [],
   "source": [
    "datasets['licitacao'] = datasets['licitacao'].query('TP_OBJETO == \"COM\"')"
   ],
   "metadata": {
    "collapsed": false
   }
  },
  {
   "cell_type": "code",
   "execution_count": 10,
   "outputs": [
    {
     "data": {
      "text/plain": "(82405, 61)"
     },
     "execution_count": 10,
     "metadata": {},
     "output_type": "execute_result"
    }
   ],
   "source": [
    "datasets['licitacao'].shape"
   ],
   "metadata": {
    "collapsed": false
   }
  },
  {
   "cell_type": "markdown",
   "source": [
    "A chave (valor unico) é composta do código do orgão (CD_ORGAO), número da licitação (NR_LICITACAO), ano da licitação (ANO_LICITACAO) e código da modalidade (CD_TIPO_MODALIDADE). Sendo assim vou criar um campo chamado ID_UNICO concatenando esses valores."
   ],
   "metadata": {
    "collapsed": false
   }
  },
  {
   "cell_type": "code",
   "execution_count": 11,
   "outputs": [
    {
     "data": {
      "text/plain": "CD_ORGAO                int64\nNM_ORGAO               object\nNR_LICITACAO          float64\nANO_LICITACAO           int64\nCD_TIPO_MODALIDADE     object\n                       ...   \nBL_GERA_DESPESA        object\nDS_OBSERVACAO          object\nPC_TX_ESTIMADA        float64\nPC_TX_HOMOLOGADA      float64\nBL_COMPARTILHADA       object\nLength: 61, dtype: object"
     },
     "execution_count": 11,
     "metadata": {},
     "output_type": "execute_result"
    }
   ],
   "source": [
    "datasets['licitacao'].dtypes"
   ],
   "metadata": {
    "collapsed": false
   }
  },
  {
   "cell_type": "code",
   "execution_count": 12,
   "outputs": [],
   "source": [
    "def add_id_column(dataset: pd.DataFrame) -> pd.DataFrame:\n",
    "    \"\"\"\n",
    "    Returns the dataset with ID_UNICO column.\n",
    "    dataset must have the following columns:\n",
    "    -CD_ORGAO\n",
    "    -NR_LICITACAO\n",
    "    -ANO_LICITACAO\n",
    "    -CD_TIPO_MODALIDADE\n",
    "\n",
    "    Example:\n",
    "        df = add_id_column(df)\n",
    "    \"\"\"\n",
    "    columns_to_concatenate = ['CD_ORGAO', 'NR_LICITACAO','ANO_LICITACAO', 'CD_TIPO_MODALIDADE']\n",
    "    dataset['ID_UNICO'] = dataset[columns_to_concatenate].apply(lambda x: '_'.join(x.astype('str')), axis=1)\n",
    "    return dataset"
   ],
   "metadata": {
    "collapsed": false
   }
  },
  {
   "cell_type": "code",
   "execution_count": 13,
   "outputs": [],
   "source": [
    "# Vamos considerar apenas licitações homologadas\n",
    "\n",
    "datasets['licitacao'] = datasets['licitacao'][datasets['licitacao'].DT_HOMOLOGACAO.isnull() == False]"
   ],
   "metadata": {
    "collapsed": false
   }
  },
  {
   "cell_type": "code",
   "execution_count": 14,
   "outputs": [],
   "source": [
    "datasets['licitacao'] = add_id_column(datasets['licitacao'])"
   ],
   "metadata": {
    "collapsed": false
   }
  },
  {
   "cell_type": "code",
   "execution_count": 15,
   "outputs": [
    {
     "data": {
      "text/plain": "   CD_ORGAO                NM_ORGAO  NR_LICITACAO  ANO_LICITACAO  \\\n1     84100  PM DE ESPERANÇA DO SUL           4.0           2016   \n2     82701         CM DE XANGRI-LÁ           1.0           2016   \n3     84100  PM DE ESPERANÇA DO SUL           6.0           2016   \n5     53100        PM DE NOVA PALMA           3.0           2016   \n6     86800  PM DE BOA VISTA DO SUL           3.0           2016   \n\n  CD_TIPO_MODALIDADE  NR_COMISSAO  ANO_COMISSAO TP_COMISSAO NR_PROCESSO  \\\n1                CNV         12.0        2016.0           P         003   \n2                PRP         12.0        2016.0           G          01   \n3                CNV         12.0        2016.0           P         005   \n5                PRP       6157.0        2016.0           G          07   \n6                PRP          2.0        2016.0           G         004   \n\n   ANO_PROCESSO  ... NR_DOCUMENTO_FORNECEDOR TP_DOCUMENTO_VENCEDOR  \\\n1        2016.0  ...                     NaN                   NaN   \n2        2016.0  ...                     NaN                   NaN   \n3        2016.0  ...                     NaN                   NaN   \n5        2016.0  ...                     NaN                   NaN   \n6        2016.0  ...                     NaN                   NaN   \n\n  NR_DOCUMENTO_VENCEDOR VL_HOMOLOGADO BL_GERA_DESPESA DS_OBSERVACAO  \\\n1                   NaN           NaN               S           NaN   \n2                   NaN           NaN               S           NaN   \n3                   NaN           NaN               S           NaN   \n5                   NaN           NaN               S           NaN   \n6                   NaN           NaN               S           NaN   \n\n  PC_TX_ESTIMADA PC_TX_HOMOLOGADA BL_COMPARTILHADA            ID_UNICO  \n1            NaN              NaN                N  84100_4.0_2016_CNV  \n2            NaN              NaN                N  82701_1.0_2016_PRP  \n3            NaN              NaN                N  84100_6.0_2016_CNV  \n5            NaN              NaN                N  53100_3.0_2016_PRP  \n6            NaN              NaN                N  86800_3.0_2016_PRP  \n\n[5 rows x 62 columns]",
      "text/html": "<div>\n<style scoped>\n    .dataframe tbody tr th:only-of-type {\n        vertical-align: middle;\n    }\n\n    .dataframe tbody tr th {\n        vertical-align: top;\n    }\n\n    .dataframe thead th {\n        text-align: right;\n    }\n</style>\n<table border=\"1\" class=\"dataframe\">\n  <thead>\n    <tr style=\"text-align: right;\">\n      <th></th>\n      <th>CD_ORGAO</th>\n      <th>NM_ORGAO</th>\n      <th>NR_LICITACAO</th>\n      <th>ANO_LICITACAO</th>\n      <th>CD_TIPO_MODALIDADE</th>\n      <th>NR_COMISSAO</th>\n      <th>ANO_COMISSAO</th>\n      <th>TP_COMISSAO</th>\n      <th>NR_PROCESSO</th>\n      <th>ANO_PROCESSO</th>\n      <th>...</th>\n      <th>NR_DOCUMENTO_FORNECEDOR</th>\n      <th>TP_DOCUMENTO_VENCEDOR</th>\n      <th>NR_DOCUMENTO_VENCEDOR</th>\n      <th>VL_HOMOLOGADO</th>\n      <th>BL_GERA_DESPESA</th>\n      <th>DS_OBSERVACAO</th>\n      <th>PC_TX_ESTIMADA</th>\n      <th>PC_TX_HOMOLOGADA</th>\n      <th>BL_COMPARTILHADA</th>\n      <th>ID_UNICO</th>\n    </tr>\n  </thead>\n  <tbody>\n    <tr>\n      <th>1</th>\n      <td>84100</td>\n      <td>PM DE ESPERANÇA DO SUL</td>\n      <td>4.0</td>\n      <td>2016</td>\n      <td>CNV</td>\n      <td>12.0</td>\n      <td>2016.0</td>\n      <td>P</td>\n      <td>003</td>\n      <td>2016.0</td>\n      <td>...</td>\n      <td>NaN</td>\n      <td>NaN</td>\n      <td>NaN</td>\n      <td>NaN</td>\n      <td>S</td>\n      <td>NaN</td>\n      <td>NaN</td>\n      <td>NaN</td>\n      <td>N</td>\n      <td>84100_4.0_2016_CNV</td>\n    </tr>\n    <tr>\n      <th>2</th>\n      <td>82701</td>\n      <td>CM DE XANGRI-LÁ</td>\n      <td>1.0</td>\n      <td>2016</td>\n      <td>PRP</td>\n      <td>12.0</td>\n      <td>2016.0</td>\n      <td>G</td>\n      <td>01</td>\n      <td>2016.0</td>\n      <td>...</td>\n      <td>NaN</td>\n      <td>NaN</td>\n      <td>NaN</td>\n      <td>NaN</td>\n      <td>S</td>\n      <td>NaN</td>\n      <td>NaN</td>\n      <td>NaN</td>\n      <td>N</td>\n      <td>82701_1.0_2016_PRP</td>\n    </tr>\n    <tr>\n      <th>3</th>\n      <td>84100</td>\n      <td>PM DE ESPERANÇA DO SUL</td>\n      <td>6.0</td>\n      <td>2016</td>\n      <td>CNV</td>\n      <td>12.0</td>\n      <td>2016.0</td>\n      <td>P</td>\n      <td>005</td>\n      <td>2016.0</td>\n      <td>...</td>\n      <td>NaN</td>\n      <td>NaN</td>\n      <td>NaN</td>\n      <td>NaN</td>\n      <td>S</td>\n      <td>NaN</td>\n      <td>NaN</td>\n      <td>NaN</td>\n      <td>N</td>\n      <td>84100_6.0_2016_CNV</td>\n    </tr>\n    <tr>\n      <th>5</th>\n      <td>53100</td>\n      <td>PM DE NOVA PALMA</td>\n      <td>3.0</td>\n      <td>2016</td>\n      <td>PRP</td>\n      <td>6157.0</td>\n      <td>2016.0</td>\n      <td>G</td>\n      <td>07</td>\n      <td>2016.0</td>\n      <td>...</td>\n      <td>NaN</td>\n      <td>NaN</td>\n      <td>NaN</td>\n      <td>NaN</td>\n      <td>S</td>\n      <td>NaN</td>\n      <td>NaN</td>\n      <td>NaN</td>\n      <td>N</td>\n      <td>53100_3.0_2016_PRP</td>\n    </tr>\n    <tr>\n      <th>6</th>\n      <td>86800</td>\n      <td>PM DE BOA VISTA DO SUL</td>\n      <td>3.0</td>\n      <td>2016</td>\n      <td>PRP</td>\n      <td>2.0</td>\n      <td>2016.0</td>\n      <td>G</td>\n      <td>004</td>\n      <td>2016.0</td>\n      <td>...</td>\n      <td>NaN</td>\n      <td>NaN</td>\n      <td>NaN</td>\n      <td>NaN</td>\n      <td>S</td>\n      <td>NaN</td>\n      <td>NaN</td>\n      <td>NaN</td>\n      <td>N</td>\n      <td>86800_3.0_2016_PRP</td>\n    </tr>\n  </tbody>\n</table>\n<p>5 rows × 62 columns</p>\n</div>"
     },
     "execution_count": 15,
     "metadata": {},
     "output_type": "execute_result"
    }
   ],
   "source": [
    "datasets['licitacao'].head()"
   ],
   "metadata": {
    "collapsed": false
   }
  },
  {
   "cell_type": "code",
   "execution_count": 16,
   "outputs": [
    {
     "data": {
      "text/plain": "1"
     },
     "execution_count": 16,
     "metadata": {},
     "output_type": "execute_result"
    }
   ],
   "source": [
    "# verifica se o campo ID_UNICO é unico\n",
    "\n",
    "datasets['licitacao']['ID_UNICO'].value_counts().max()"
   ],
   "metadata": {
    "collapsed": false
   }
  },
  {
   "cell_type": "markdown",
   "source": [
    "Vamos manter apenas as colunas necessárias para analises"
   ],
   "metadata": {
    "collapsed": false
   }
  },
  {
   "cell_type": "code",
   "execution_count": 17,
   "outputs": [],
   "source": [
    "columns_to_keep = ['ID_UNICO','NM_ORGAO','DS_OBJETO','DT_ABERTURA','DT_HOMOLOGACAO']"
   ],
   "metadata": {
    "collapsed": false
   }
  },
  {
   "cell_type": "code",
   "execution_count": 18,
   "outputs": [],
   "source": [
    "datasets['licitacao'] = datasets['licitacao'][columns_to_keep]"
   ],
   "metadata": {
    "collapsed": false
   }
  },
  {
   "cell_type": "code",
   "execution_count": 19,
   "outputs": [
    {
     "data": {
      "text/plain": "             ID_UNICO                NM_ORGAO  \\\n1  84100_4.0_2016_CNV  PM DE ESPERANÇA DO SUL   \n2  82701_1.0_2016_PRP         CM DE XANGRI-LÁ   \n3  84100_6.0_2016_CNV  PM DE ESPERANÇA DO SUL   \n5  53100_3.0_2016_PRP        PM DE NOVA PALMA   \n6  86800_3.0_2016_PRP  PM DE BOA VISTA DO SUL   \n\n                                           DS_OBJETO DT_ABERTURA  \\\n1                      Aquisição de merenda escolar   2016-01-22   \n2  AQUISIÇÃO DE PROTOCOLADORA E FRAGMENTADORA DE ...  2016-01-26   \n3  Aquisição de materiais de limpeza para as dive...  2016-02-02   \n5                     Aquisição de tubos de concreto  2016-02-12   \n6                     Aquisição de tubos de concreto  2016-01-25   \n\n  DT_HOMOLOGACAO  \n1     2016-01-29  \n2     2016-02-01  \n3     2016-02-11  \n5     2016-02-15  \n6     2016-01-28  ",
      "text/html": "<div>\n<style scoped>\n    .dataframe tbody tr th:only-of-type {\n        vertical-align: middle;\n    }\n\n    .dataframe tbody tr th {\n        vertical-align: top;\n    }\n\n    .dataframe thead th {\n        text-align: right;\n    }\n</style>\n<table border=\"1\" class=\"dataframe\">\n  <thead>\n    <tr style=\"text-align: right;\">\n      <th></th>\n      <th>ID_UNICO</th>\n      <th>NM_ORGAO</th>\n      <th>DS_OBJETO</th>\n      <th>DT_ABERTURA</th>\n      <th>DT_HOMOLOGACAO</th>\n    </tr>\n  </thead>\n  <tbody>\n    <tr>\n      <th>1</th>\n      <td>84100_4.0_2016_CNV</td>\n      <td>PM DE ESPERANÇA DO SUL</td>\n      <td>Aquisição de merenda escolar</td>\n      <td>2016-01-22</td>\n      <td>2016-01-29</td>\n    </tr>\n    <tr>\n      <th>2</th>\n      <td>82701_1.0_2016_PRP</td>\n      <td>CM DE XANGRI-LÁ</td>\n      <td>AQUISIÇÃO DE PROTOCOLADORA E FRAGMENTADORA DE ...</td>\n      <td>2016-01-26</td>\n      <td>2016-02-01</td>\n    </tr>\n    <tr>\n      <th>3</th>\n      <td>84100_6.0_2016_CNV</td>\n      <td>PM DE ESPERANÇA DO SUL</td>\n      <td>Aquisição de materiais de limpeza para as dive...</td>\n      <td>2016-02-02</td>\n      <td>2016-02-11</td>\n    </tr>\n    <tr>\n      <th>5</th>\n      <td>53100_3.0_2016_PRP</td>\n      <td>PM DE NOVA PALMA</td>\n      <td>Aquisição de tubos de concreto</td>\n      <td>2016-02-12</td>\n      <td>2016-02-15</td>\n    </tr>\n    <tr>\n      <th>6</th>\n      <td>86800_3.0_2016_PRP</td>\n      <td>PM DE BOA VISTA DO SUL</td>\n      <td>Aquisição de tubos de concreto</td>\n      <td>2016-01-25</td>\n      <td>2016-01-28</td>\n    </tr>\n  </tbody>\n</table>\n</div>"
     },
     "execution_count": 19,
     "metadata": {},
     "output_type": "execute_result"
    }
   ],
   "source": [
    "datasets['licitacao'].head()"
   ],
   "metadata": {
    "collapsed": false
   }
  },
  {
   "cell_type": "markdown",
   "source": [
    "Queremos explorar as compras realizadas, sendo assim os valores 'registro' da coluna DS_OBJETO serão retirados"
   ],
   "metadata": {
    "collapsed": false
   }
  },
  {
   "cell_type": "code",
   "execution_count": 21,
   "outputs": [],
   "source": [
    "# Pega a primeira palavra da coluna DS_OBJETO\n",
    "\n",
    "datasets['licitacao']['DS_OBJETO_PRIMEIRA_PALAVRA'] = datasets['licitacao'].DS_OBJETO.apply(lambda x: x.split()[0].upper())\n",
    "\n",
    "# Mantém apenas os registros cuja primeira palavra da coluna DS_OBJETO não começa com a palavra 'REGISTRO'\n",
    "datasets['licitacao'] = datasets['licitacao'][datasets['licitacao'].DS_OBJETO_PRIMEIRA_PALAVRA != 'REGISTRO']"
   ],
   "metadata": {
    "collapsed": false
   }
  },
  {
   "cell_type": "markdown",
   "source": [
    "# ITEM"
   ],
   "metadata": {
    "collapsed": false
   }
  },
  {
   "cell_type": "markdown",
   "source": [
    "Vamos repetir o que foi feito para o arquivo de licitações"
   ],
   "metadata": {
    "collapsed": false
   }
  },
  {
   "cell_type": "code",
   "execution_count": 22,
   "outputs": [
    {
     "data": {
      "text/plain": "   CD_ORGAO  NR_LICITACAO  ANO_LICITACAO CD_TIPO_MODALIDADE  NR_LOTE  NR_ITEM  \\\n0     77200          15.0           2016                PRP        1        2   \n1     77200          15.0           2016                PRP        1        4   \n2     77200          15.0           2016                PRP        1        7   \n3     77200          15.0           2016                PRP        1        8   \n4     77200          15.0           2016                PRP        1       12   \n\n  NR_ITEM_ORIGINAL                                            DS_ITEM  \\\n0                2  Pneu 1000/20 liso radial, dianteiro, 16 lonas,...   \n1                4                 Pneu 12.4x24 garra baixa, 10 lonas   \n2                7                       Pneu 1400x24 mínimo 12 lonas   \n3                8  Pneu 17.5x25 12 lonas, capacidade mínima de ca...   \n4               12          Pneu 18.4x30 garra baixa, mínimo 10 lonas   \n\n  QT_ITENS SG_UNIDADE_MEDIDA  ...  TP_ORCAMENTO  CD_TIPO_FAMILIA  \\\n0     10.0                UN  ...             M            745.0   \n1      4.0                UN  ...             M            745.0   \n2      6.0                UN  ...             M            745.0   \n3      4.0                UN  ...             M            745.0   \n4      4.0                UN  ...             M            745.0   \n\n  CD_TIPO_SUBFAMILIA  TP_DOCUMENTO     NR_DOCUMENTO TP_DOCUMENTO.1  \\\n0              632.0             J  8774832000177.0            NaN   \n1              632.0             J  8774832000177.0            NaN   \n2              632.0             J  8774832000177.0            NaN   \n3              632.0             J  8774832000177.0            NaN   \n4              632.0             J  8774832000177.0            NaN   \n\n  NR_DOCUMENTO.1 TP_BENEFICIO_MICRO_EPP  PC_TX_ESTIMADA PC_TX_HOMOLOGADA  \n0            NaN                      L             NaN              NaN  \n1            NaN                      L             NaN              NaN  \n2            NaN                      L             NaN              NaN  \n3            NaN                      L             NaN              NaN  \n4            NaN                      L             NaN              NaN  \n\n[5 rows x 32 columns]",
      "text/html": "<div>\n<style scoped>\n    .dataframe tbody tr th:only-of-type {\n        vertical-align: middle;\n    }\n\n    .dataframe tbody tr th {\n        vertical-align: top;\n    }\n\n    .dataframe thead th {\n        text-align: right;\n    }\n</style>\n<table border=\"1\" class=\"dataframe\">\n  <thead>\n    <tr style=\"text-align: right;\">\n      <th></th>\n      <th>CD_ORGAO</th>\n      <th>NR_LICITACAO</th>\n      <th>ANO_LICITACAO</th>\n      <th>CD_TIPO_MODALIDADE</th>\n      <th>NR_LOTE</th>\n      <th>NR_ITEM</th>\n      <th>NR_ITEM_ORIGINAL</th>\n      <th>DS_ITEM</th>\n      <th>QT_ITENS</th>\n      <th>SG_UNIDADE_MEDIDA</th>\n      <th>...</th>\n      <th>TP_ORCAMENTO</th>\n      <th>CD_TIPO_FAMILIA</th>\n      <th>CD_TIPO_SUBFAMILIA</th>\n      <th>TP_DOCUMENTO</th>\n      <th>NR_DOCUMENTO</th>\n      <th>TP_DOCUMENTO.1</th>\n      <th>NR_DOCUMENTO.1</th>\n      <th>TP_BENEFICIO_MICRO_EPP</th>\n      <th>PC_TX_ESTIMADA</th>\n      <th>PC_TX_HOMOLOGADA</th>\n    </tr>\n  </thead>\n  <tbody>\n    <tr>\n      <th>0</th>\n      <td>77200</td>\n      <td>15.0</td>\n      <td>2016</td>\n      <td>PRP</td>\n      <td>1</td>\n      <td>2</td>\n      <td>2</td>\n      <td>Pneu 1000/20 liso radial, dianteiro, 16 lonas,...</td>\n      <td>10.0</td>\n      <td>UN</td>\n      <td>...</td>\n      <td>M</td>\n      <td>745.0</td>\n      <td>632.0</td>\n      <td>J</td>\n      <td>8774832000177.0</td>\n      <td>NaN</td>\n      <td>NaN</td>\n      <td>L</td>\n      <td>NaN</td>\n      <td>NaN</td>\n    </tr>\n    <tr>\n      <th>1</th>\n      <td>77200</td>\n      <td>15.0</td>\n      <td>2016</td>\n      <td>PRP</td>\n      <td>1</td>\n      <td>4</td>\n      <td>4</td>\n      <td>Pneu 12.4x24 garra baixa, 10 lonas</td>\n      <td>4.0</td>\n      <td>UN</td>\n      <td>...</td>\n      <td>M</td>\n      <td>745.0</td>\n      <td>632.0</td>\n      <td>J</td>\n      <td>8774832000177.0</td>\n      <td>NaN</td>\n      <td>NaN</td>\n      <td>L</td>\n      <td>NaN</td>\n      <td>NaN</td>\n    </tr>\n    <tr>\n      <th>2</th>\n      <td>77200</td>\n      <td>15.0</td>\n      <td>2016</td>\n      <td>PRP</td>\n      <td>1</td>\n      <td>7</td>\n      <td>7</td>\n      <td>Pneu 1400x24 mínimo 12 lonas</td>\n      <td>6.0</td>\n      <td>UN</td>\n      <td>...</td>\n      <td>M</td>\n      <td>745.0</td>\n      <td>632.0</td>\n      <td>J</td>\n      <td>8774832000177.0</td>\n      <td>NaN</td>\n      <td>NaN</td>\n      <td>L</td>\n      <td>NaN</td>\n      <td>NaN</td>\n    </tr>\n    <tr>\n      <th>3</th>\n      <td>77200</td>\n      <td>15.0</td>\n      <td>2016</td>\n      <td>PRP</td>\n      <td>1</td>\n      <td>8</td>\n      <td>8</td>\n      <td>Pneu 17.5x25 12 lonas, capacidade mínima de ca...</td>\n      <td>4.0</td>\n      <td>UN</td>\n      <td>...</td>\n      <td>M</td>\n      <td>745.0</td>\n      <td>632.0</td>\n      <td>J</td>\n      <td>8774832000177.0</td>\n      <td>NaN</td>\n      <td>NaN</td>\n      <td>L</td>\n      <td>NaN</td>\n      <td>NaN</td>\n    </tr>\n    <tr>\n      <th>4</th>\n      <td>77200</td>\n      <td>15.0</td>\n      <td>2016</td>\n      <td>PRP</td>\n      <td>1</td>\n      <td>12</td>\n      <td>12</td>\n      <td>Pneu 18.4x30 garra baixa, mínimo 10 lonas</td>\n      <td>4.0</td>\n      <td>UN</td>\n      <td>...</td>\n      <td>M</td>\n      <td>745.0</td>\n      <td>632.0</td>\n      <td>J</td>\n      <td>8774832000177.0</td>\n      <td>NaN</td>\n      <td>NaN</td>\n      <td>L</td>\n      <td>NaN</td>\n      <td>NaN</td>\n    </tr>\n  </tbody>\n</table>\n<p>5 rows × 32 columns</p>\n</div>"
     },
     "execution_count": 22,
     "metadata": {},
     "output_type": "execute_result"
    }
   ],
   "source": [
    "datasets['item'].head()"
   ],
   "metadata": {
    "collapsed": false
   }
  },
  {
   "cell_type": "code",
   "execution_count": 23,
   "outputs": [],
   "source": [
    "columns_to_keep = ['CD_ORGAO','NR_LICITACAO','ANO_LICITACAO','CD_TIPO_MODALIDADE','DS_ITEM','QT_ITENS','VL_UNITARIO_HOMOLOGADO', 'VL_TOTAL_HOMOLOGADO']"
   ],
   "metadata": {
    "collapsed": false
   }
  },
  {
   "cell_type": "code",
   "execution_count": 24,
   "outputs": [],
   "source": [
    "datasets['item'] = datasets['item'][columns_to_keep]"
   ],
   "metadata": {
    "collapsed": false
   }
  },
  {
   "cell_type": "code",
   "execution_count": 25,
   "outputs": [],
   "source": [
    "datasets['item'] = add_id_column(datasets['item'])"
   ],
   "metadata": {
    "collapsed": false
   }
  },
  {
   "cell_type": "code",
   "execution_count": 26,
   "outputs": [],
   "source": [
    "columns_to_keep = ['ID_UNICO','DS_ITEM','QT_ITENS','VL_UNITARIO_HOMOLOGADO', 'VL_TOTAL_HOMOLOGADO']"
   ],
   "metadata": {
    "collapsed": false
   }
  },
  {
   "cell_type": "code",
   "execution_count": 27,
   "outputs": [],
   "source": [
    "datasets['item'] = datasets['item'][columns_to_keep]"
   ],
   "metadata": {
    "collapsed": false
   }
  },
  {
   "cell_type": "code",
   "execution_count": 28,
   "outputs": [
    {
     "data": {
      "text/plain": "              ID_UNICO                                            DS_ITEM  \\\n0  77200_15.0_2016_PRP  Pneu 1000/20 liso radial, dianteiro, 16 lonas,...   \n1  77200_15.0_2016_PRP                 Pneu 12.4x24 garra baixa, 10 lonas   \n2  77200_15.0_2016_PRP                       Pneu 1400x24 mínimo 12 lonas   \n3  77200_15.0_2016_PRP  Pneu 17.5x25 12 lonas, capacidade mínima de ca...   \n4  77200_15.0_2016_PRP          Pneu 18.4x30 garra baixa, mínimo 10 lonas   \n\n  QT_ITENS  VL_UNITARIO_HOMOLOGADO VL_TOTAL_HOMOLOGADO  \n0     10.0                  1430.0             14300.0  \n1      4.0                  1258.0              5032.0  \n2      6.0                  1998.0             11988.0  \n3      4.0                  2978.0             11912.0  \n4      4.0                  2500.0             10000.0  ",
      "text/html": "<div>\n<style scoped>\n    .dataframe tbody tr th:only-of-type {\n        vertical-align: middle;\n    }\n\n    .dataframe tbody tr th {\n        vertical-align: top;\n    }\n\n    .dataframe thead th {\n        text-align: right;\n    }\n</style>\n<table border=\"1\" class=\"dataframe\">\n  <thead>\n    <tr style=\"text-align: right;\">\n      <th></th>\n      <th>ID_UNICO</th>\n      <th>DS_ITEM</th>\n      <th>QT_ITENS</th>\n      <th>VL_UNITARIO_HOMOLOGADO</th>\n      <th>VL_TOTAL_HOMOLOGADO</th>\n    </tr>\n  </thead>\n  <tbody>\n    <tr>\n      <th>0</th>\n      <td>77200_15.0_2016_PRP</td>\n      <td>Pneu 1000/20 liso radial, dianteiro, 16 lonas,...</td>\n      <td>10.0</td>\n      <td>1430.0</td>\n      <td>14300.0</td>\n    </tr>\n    <tr>\n      <th>1</th>\n      <td>77200_15.0_2016_PRP</td>\n      <td>Pneu 12.4x24 garra baixa, 10 lonas</td>\n      <td>4.0</td>\n      <td>1258.0</td>\n      <td>5032.0</td>\n    </tr>\n    <tr>\n      <th>2</th>\n      <td>77200_15.0_2016_PRP</td>\n      <td>Pneu 1400x24 mínimo 12 lonas</td>\n      <td>6.0</td>\n      <td>1998.0</td>\n      <td>11988.0</td>\n    </tr>\n    <tr>\n      <th>3</th>\n      <td>77200_15.0_2016_PRP</td>\n      <td>Pneu 17.5x25 12 lonas, capacidade mínima de ca...</td>\n      <td>4.0</td>\n      <td>2978.0</td>\n      <td>11912.0</td>\n    </tr>\n    <tr>\n      <th>4</th>\n      <td>77200_15.0_2016_PRP</td>\n      <td>Pneu 18.4x30 garra baixa, mínimo 10 lonas</td>\n      <td>4.0</td>\n      <td>2500.0</td>\n      <td>10000.0</td>\n    </tr>\n  </tbody>\n</table>\n</div>"
     },
     "execution_count": 28,
     "metadata": {},
     "output_type": "execute_result"
    }
   ],
   "source": [
    "datasets['item'].head()"
   ],
   "metadata": {
    "collapsed": false
   }
  },
  {
   "cell_type": "markdown",
   "source": [
    "# Juntando os datasets"
   ],
   "metadata": {
    "collapsed": false
   }
  },
  {
   "cell_type": "markdown",
   "source": [
    "Nesse momento juntamos os dois arquivos com base na chave (ID_UNICO)"
   ],
   "metadata": {
    "collapsed": false
   }
  },
  {
   "cell_type": "code",
   "execution_count": 29,
   "outputs": [],
   "source": [
    "df = pd.merge(datasets['licitacao'],datasets['item'],how='inner', on='ID_UNICO')"
   ],
   "metadata": {
    "collapsed": false
   }
  },
  {
   "cell_type": "code",
   "execution_count": 30,
   "outputs": [],
   "source": [
    "df = df.reset_index(drop=True)"
   ],
   "metadata": {
    "collapsed": false
   }
  },
  {
   "cell_type": "code",
   "execution_count": 31,
   "outputs": [
    {
     "data": {
      "text/plain": "             ID_UNICO                NM_ORGAO                      DS_OBJETO  \\\n0  84100_4.0_2016_CNV  PM DE ESPERANÇA DO SUL  Aquisição de merenda escolar    \n1  84100_4.0_2016_CNV  PM DE ESPERANÇA DO SUL  Aquisição de merenda escolar    \n2  84100_4.0_2016_CNV  PM DE ESPERANÇA DO SUL  Aquisição de merenda escolar    \n3  84100_4.0_2016_CNV  PM DE ESPERANÇA DO SUL  Aquisição de merenda escolar    \n4  84100_4.0_2016_CNV  PM DE ESPERANÇA DO SUL  Aquisição de merenda escolar    \n\n  DT_ABERTURA DT_HOMOLOGACAO DS_OBJETO_PRIMEIRA_PALAVRA  \\\n0  2016-01-22     2016-01-29                  AQUISIÇÃO   \n1  2016-01-22     2016-01-29                  AQUISIÇÃO   \n2  2016-01-22     2016-01-29                  AQUISIÇÃO   \n3  2016-01-22     2016-01-29                  AQUISIÇÃO   \n4  2016-01-22     2016-01-29                  AQUISIÇÃO   \n\n                                    DS_ITEM QT_ITENS  VL_UNITARIO_HOMOLOGADO  \\\n0  Biscoito doce maria pacote de 700 gramas     72.0                    5.00   \n1     Biscoito salgado pacote de 400 gramas     72.0                    3.61   \n2            Farinha de trigo pacote de 5kg      4.0                    8.58   \n3              Açúcar cristal pacote de 5kg      4.0                   12.35   \n4     Biscoito salgado pacote de 400 gramas     60.0                    3.61   \n\n  VL_TOTAL_HOMOLOGADO  \n0               360.0  \n1              259.92  \n2               34.32  \n3                49.4  \n4               216.6  ",
      "text/html": "<div>\n<style scoped>\n    .dataframe tbody tr th:only-of-type {\n        vertical-align: middle;\n    }\n\n    .dataframe tbody tr th {\n        vertical-align: top;\n    }\n\n    .dataframe thead th {\n        text-align: right;\n    }\n</style>\n<table border=\"1\" class=\"dataframe\">\n  <thead>\n    <tr style=\"text-align: right;\">\n      <th></th>\n      <th>ID_UNICO</th>\n      <th>NM_ORGAO</th>\n      <th>DS_OBJETO</th>\n      <th>DT_ABERTURA</th>\n      <th>DT_HOMOLOGACAO</th>\n      <th>DS_OBJETO_PRIMEIRA_PALAVRA</th>\n      <th>DS_ITEM</th>\n      <th>QT_ITENS</th>\n      <th>VL_UNITARIO_HOMOLOGADO</th>\n      <th>VL_TOTAL_HOMOLOGADO</th>\n    </tr>\n  </thead>\n  <tbody>\n    <tr>\n      <th>0</th>\n      <td>84100_4.0_2016_CNV</td>\n      <td>PM DE ESPERANÇA DO SUL</td>\n      <td>Aquisição de merenda escolar</td>\n      <td>2016-01-22</td>\n      <td>2016-01-29</td>\n      <td>AQUISIÇÃO</td>\n      <td>Biscoito doce maria pacote de 700 gramas</td>\n      <td>72.0</td>\n      <td>5.00</td>\n      <td>360.0</td>\n    </tr>\n    <tr>\n      <th>1</th>\n      <td>84100_4.0_2016_CNV</td>\n      <td>PM DE ESPERANÇA DO SUL</td>\n      <td>Aquisição de merenda escolar</td>\n      <td>2016-01-22</td>\n      <td>2016-01-29</td>\n      <td>AQUISIÇÃO</td>\n      <td>Biscoito salgado pacote de 400 gramas</td>\n      <td>72.0</td>\n      <td>3.61</td>\n      <td>259.92</td>\n    </tr>\n    <tr>\n      <th>2</th>\n      <td>84100_4.0_2016_CNV</td>\n      <td>PM DE ESPERANÇA DO SUL</td>\n      <td>Aquisição de merenda escolar</td>\n      <td>2016-01-22</td>\n      <td>2016-01-29</td>\n      <td>AQUISIÇÃO</td>\n      <td>Farinha de trigo pacote de 5kg</td>\n      <td>4.0</td>\n      <td>8.58</td>\n      <td>34.32</td>\n    </tr>\n    <tr>\n      <th>3</th>\n      <td>84100_4.0_2016_CNV</td>\n      <td>PM DE ESPERANÇA DO SUL</td>\n      <td>Aquisição de merenda escolar</td>\n      <td>2016-01-22</td>\n      <td>2016-01-29</td>\n      <td>AQUISIÇÃO</td>\n      <td>Açúcar cristal pacote de 5kg</td>\n      <td>4.0</td>\n      <td>12.35</td>\n      <td>49.4</td>\n    </tr>\n    <tr>\n      <th>4</th>\n      <td>84100_4.0_2016_CNV</td>\n      <td>PM DE ESPERANÇA DO SUL</td>\n      <td>Aquisição de merenda escolar</td>\n      <td>2016-01-22</td>\n      <td>2016-01-29</td>\n      <td>AQUISIÇÃO</td>\n      <td>Biscoito salgado pacote de 400 gramas</td>\n      <td>60.0</td>\n      <td>3.61</td>\n      <td>216.6</td>\n    </tr>\n  </tbody>\n</table>\n</div>"
     },
     "execution_count": 31,
     "metadata": {},
     "output_type": "execute_result"
    }
   ],
   "source": [
    "df.head()"
   ],
   "metadata": {
    "collapsed": false
   }
  },
  {
   "cell_type": "markdown",
   "source": [
    "Organiza a sequencia de colunas no dataset"
   ],
   "metadata": {
    "collapsed": false
   }
  },
  {
   "cell_type": "code",
   "execution_count": 32,
   "outputs": [],
   "source": [
    "columns_sequence = ['ID_UNICO', 'DT_ABERTURA', 'DT_HOMOLOGACAO', 'NM_ORGAO', 'DS_OBJETO', 'DS_ITEM', 'QT_ITENS', 'VL_UNITARIO_HOMOLOGADO', 'VL_TOTAL_HOMOLOGADO']"
   ],
   "metadata": {
    "collapsed": false
   }
  },
  {
   "cell_type": "code",
   "execution_count": 33,
   "outputs": [],
   "source": [
    "df = df[columns_sequence]"
   ],
   "metadata": {
    "collapsed": false
   }
  },
  {
   "cell_type": "code",
   "execution_count": 34,
   "outputs": [
    {
     "data": {
      "text/plain": "(1396857, 9)"
     },
     "execution_count": 34,
     "metadata": {},
     "output_type": "execute_result"
    }
   ],
   "source": [
    "df.shape"
   ],
   "metadata": {
    "collapsed": false
   }
  },
  {
   "cell_type": "markdown",
   "source": [
    "## Tipos das colunas"
   ],
   "metadata": {
    "collapsed": false
   }
  },
  {
   "cell_type": "code",
   "execution_count": 35,
   "outputs": [
    {
     "data": {
      "text/plain": "ID_UNICO                   object\nDT_ABERTURA                object\nDT_HOMOLOGACAO             object\nNM_ORGAO                   object\nDS_OBJETO                  object\nDS_ITEM                    object\nQT_ITENS                   object\nVL_UNITARIO_HOMOLOGADO    float64\nVL_TOTAL_HOMOLOGADO        object\ndtype: object"
     },
     "execution_count": 35,
     "metadata": {},
     "output_type": "execute_result"
    }
   ],
   "source": [
    "df.dtypes"
   ],
   "metadata": {
    "collapsed": false
   }
  },
  {
   "cell_type": "markdown",
   "source": [
    "Altera o tipo da coluna com base no prefixo, exemplo:\n",
    "- DT -> data\n",
    "- DS -> string\n",
    "- VL -> float"
   ],
   "metadata": {
    "collapsed": false
   }
  },
  {
   "cell_type": "code",
   "execution_count": 36,
   "outputs": [],
   "source": [
    "def change_column_type()-> None:\n",
    "    \"\"\"\n",
    "    Altera o tipo da coluna baseado no prefixo. Ex: DT -> data, DS (descrição) -> string .\n",
    "\n",
    "    :return: None\n",
    "    \"\"\"\n",
    "    try:\n",
    "        for col in df.columns:\n",
    "            match col.split('_'):\n",
    "                case ['DT',*_]:\n",
    "                    df[col] = pd.to_datetime(df[col], format= 'mixed')\n",
    "                case ['DS',*_]:\n",
    "                    df[col] = df[col].str.upper()\n",
    "                case ['VL',*_]:\n",
    "                    df[col] = df[col].astype('float')\n",
    "                case ['QT',*_]:\n",
    "                    df[col] = df[col].astype('float')\n",
    "    except Exception as error:\n",
    "        print(f'Erro encontrado: {error.args[0]}')"
   ],
   "metadata": {
    "collapsed": false
   }
  },
  {
   "cell_type": "code",
   "execution_count": 37,
   "outputs": [
    {
     "name": "stdout",
     "output_type": "stream",
     "text": [
      "Erro encontrado: Out of bounds nanosecond timestamp: 0019-06-05, at position 1044\n"
     ]
    }
   ],
   "source": [
    "change_column_type()"
   ],
   "metadata": {
    "collapsed": false
   }
  },
  {
   "cell_type": "code",
   "execution_count": 38,
   "outputs": [
    {
     "data": {
      "text/plain": "                     ID_UNICO DT_ABERTURA DT_HOMOLOGACAO             NM_ORGAO  \\\n1323983  45000_117.0_2019_PRP  0019-06-05     2019-06-07  PM DE CAXIAS DO SUL   \n1323984  45000_117.0_2019_PRP  0019-06-05     2019-06-07  PM DE CAXIAS DO SUL   \n1323985  45000_117.0_2019_PRP  0019-06-05     2019-06-07  PM DE CAXIAS DO SUL   \n1323986  45000_117.0_2019_PRP  0019-06-05     2019-06-07  PM DE CAXIAS DO SUL   \n1323987  45000_117.0_2019_PRP  0019-06-05     2019-06-07  PM DE CAXIAS DO SUL   \n1323988  45000_117.0_2019_PRP  0019-06-05     2019-06-07  PM DE CAXIAS DO SUL   \n1323989  45000_117.0_2019_PRP  0019-06-05     2019-06-07  PM DE CAXIAS DO SUL   \n1323990  45000_117.0_2019_PRP  0019-06-05     2019-06-07  PM DE CAXIAS DO SUL   \n1323991  45000_117.0_2019_PRP  0019-06-05     2019-06-07  PM DE CAXIAS DO SUL   \n1323992  45000_117.0_2019_PRP  0019-06-05     2019-06-07  PM DE CAXIAS DO SUL   \n1323993  45000_117.0_2019_PRP  0019-06-05     2019-06-07  PM DE CAXIAS DO SUL   \n1323994  45000_117.0_2019_PRP  0019-06-05     2019-06-07  PM DE CAXIAS DO SUL   \n1323995  45000_117.0_2019_PRP  0019-06-05     2019-06-07  PM DE CAXIAS DO SUL   \n1323996  45000_117.0_2019_PRP  0019-06-05     2019-06-07  PM DE CAXIAS DO SUL   \n1323997  45000_117.0_2019_PRP  0019-06-05     2019-06-07  PM DE CAXIAS DO SUL   \n1323998  45000_117.0_2019_PRP  0019-06-05     2019-06-07  PM DE CAXIAS DO SUL   \n1323999  45000_117.0_2019_PRP  0019-06-05     2019-06-07  PM DE CAXIAS DO SUL   \n1324000  45000_117.0_2019_PRP  0019-06-05     2019-06-07  PM DE CAXIAS DO SUL   \n1324001  45000_117.0_2019_PRP  0019-06-05     2019-06-07  PM DE CAXIAS DO SUL   \n1324002  45000_117.0_2019_PRP  0019-06-05     2019-06-07  PM DE CAXIAS DO SUL   \n1324003  45000_117.0_2019_PRP  0019-06-05     2019-06-07  PM DE CAXIAS DO SUL   \n1324004  45000_117.0_2019_PRP  0019-06-05     2019-06-07  PM DE CAXIAS DO SUL   \n1324005  45000_117.0_2019_PRP  0019-06-05     2019-06-07  PM DE CAXIAS DO SUL   \n1324006  45000_117.0_2019_PRP  0019-06-05     2019-06-07  PM DE CAXIAS DO SUL   \n1324007  45000_117.0_2019_PRP  0019-06-05     2019-06-07  PM DE CAXIAS DO SUL   \n1324008  45000_117.0_2019_PRP  0019-06-05     2019-06-07  PM DE CAXIAS DO SUL   \n1324009  45000_117.0_2019_PRP  0019-06-05     2019-06-07  PM DE CAXIAS DO SUL   \n\n                                                 DS_OBJETO  \\\n1323983  Fornecimento de insumos para o laboratório de ...   \n1323984  Fornecimento de insumos para o laboratório de ...   \n1323985  Fornecimento de insumos para o laboratório de ...   \n1323986  Fornecimento de insumos para o laboratório de ...   \n1323987  Fornecimento de insumos para o laboratório de ...   \n1323988  Fornecimento de insumos para o laboratório de ...   \n1323989  Fornecimento de insumos para o laboratório de ...   \n1323990  Fornecimento de insumos para o laboratório de ...   \n1323991  Fornecimento de insumos para o laboratório de ...   \n1323992  Fornecimento de insumos para o laboratório de ...   \n1323993  Fornecimento de insumos para o laboratório de ...   \n1323994  Fornecimento de insumos para o laboratório de ...   \n1323995  Fornecimento de insumos para o laboratório de ...   \n1323996  Fornecimento de insumos para o laboratório de ...   \n1323997  Fornecimento de insumos para o laboratório de ...   \n1323998  Fornecimento de insumos para o laboratório de ...   \n1323999  Fornecimento de insumos para o laboratório de ...   \n1324000  Fornecimento de insumos para o laboratório de ...   \n1324001  Fornecimento de insumos para o laboratório de ...   \n1324002  Fornecimento de insumos para o laboratório de ...   \n1324003  Fornecimento de insumos para o laboratório de ...   \n1324004  Fornecimento de insumos para o laboratório de ...   \n1324005  Fornecimento de insumos para o laboratório de ...   \n1324006  Fornecimento de insumos para o laboratório de ...   \n1324007  Fornecimento de insumos para o laboratório de ...   \n1324008  Fornecimento de insumos para o laboratório de ...   \n1324009  Fornecimento de insumos para o laboratório de ...   \n\n                                                   DS_ITEM   QT_ITENS  \\\n1323983  CORANTE DE MAY GRÜNWALD:a) solução para colora...      40.00   \n1323984  LÂMINA EXTENSORA OU PARA ESFREGAÇO:a) para con...       3.00   \n1323985  TESTE PARA PESQUISA DE PCR, EM AMOSTRAS DE SOR...    9100.00   \n1323986  TESTE PARA PESQUISA DE FATOR REUMATÓIDE EM AMO...    6000.00   \n1323987  LÁPIS DERMATOGRÁFICO: a) cor: preta;b) possuir...      36.00   \n1323988  PAPEL FILTRO QUALITATIVO: a) dimensões: 50 x 5...     100.00   \n1323989  CORANTE DE HEMOGRAMA:a) compatível com o equip...     100.00   \n1323990  FRASCO COLETOR DE URINA 24 HORAS:a) corpo tran...      24.00   \n1323991  SULFATO DE BÁRIO:a) usado como contraste radio...       6.00   \n1323992  ÁLCOOL ABSOLUTO 99,5%:a) álcool anidro;b) usad...     120.00   \n1323993  EA-36 - CORANTE DE PAPANICOLAU PARA MICROSCOPI...      12.00   \n1323994  ORANGE G ? CORANTE DE PAPANICOLAU PARA MICROSC...      12.00   \n1323995  HEMATOXILINA DE HARRIS ? CORANTE DE PAPANICOLA...      12.00   \n1323996  TESTE RÁPIDO DE AGLUTINAÇÃO EM LÂMINA PARA IDE...    1400.00   \n1323997                 ÓLEO MINERAL:a) frasco com 100 ml.      20.00   \n1323998  KIT DE TUBULAÇÃO (MANGUEIRAS) COMPATÍVEIS COM ...       4.00   \n1323999  TUBO CAPILAR SEM HEPARINA:a) tubo contendo 500...      12.00   \n1324000  GLICOSE ANIDRA PARA TESTE DE TOLERÂNCIA À GLIC...  120000.00   \n1324001  PESQUISA DE SANGUE OCULTO SEM DIETA:a) control...    1700.00   \n1324002  PÓ BRANCO D-LACTOSE P.A. MONO-HIDRATADA:a) par...   15000.00   \n1324003  TROMBOPLASTINA CÁLCICA PARA DETERMINAÇÃO DO TE...     650.00   \n1324004  REATIVOS PARA DETERMINAÇÃO DE TROMBOPLASTINA P...     400.00   \n1324005  TESTE PARA PESQUISA DE FATOR REUMATÓIDE EM AMO...     200.00   \n1324006  CORANTE GIEMSA:a) solução para coloração de es...       1.00   \n1324007  TESTE PARA PESQUISA DE ANTICORPOS HETERÓFILOS ...      200.0   \n1324008  TESTE DE VDRL:a) para detectar reagina ou anti...     2000.0   \n1324009  TESTE PARA PESQUISA DE ANTIESTREPTOLISINA O EM...      600.0   \n\n         VL_UNITARIO_HOMOLOGADO VL_TOTAL_HOMOLOGADO  \n1323983                     NaN                 NaN  \n1323984                     NaN                 NaN  \n1323985                     NaN                 NaN  \n1323986                     NaN                 NaN  \n1323987                     NaN                 NaN  \n1323988                     NaN                 NaN  \n1323989                     NaN                 NaN  \n1323990                     NaN                 NaN  \n1323991                     NaN                 NaN  \n1323992                     NaN                 NaN  \n1323993                     NaN                 NaN  \n1323994                     NaN                 NaN  \n1323995                     NaN                 NaN  \n1323996                     NaN                 NaN  \n1323997                     NaN                 NaN  \n1323998                     NaN                 NaN  \n1323999                     NaN                 NaN  \n1324000                     NaN                 NaN  \n1324001                     NaN                 NaN  \n1324002                     NaN                 NaN  \n1324003                     NaN                 NaN  \n1324004                     NaN                 NaN  \n1324005                     NaN                 NaN  \n1324006                     NaN                 NaN  \n1324007                    0.95               190.0  \n1324008                    6.00             12000.0  \n1324009                    0.90               540.0  ",
      "text/html": "<div>\n<style scoped>\n    .dataframe tbody tr th:only-of-type {\n        vertical-align: middle;\n    }\n\n    .dataframe tbody tr th {\n        vertical-align: top;\n    }\n\n    .dataframe thead th {\n        text-align: right;\n    }\n</style>\n<table border=\"1\" class=\"dataframe\">\n  <thead>\n    <tr style=\"text-align: right;\">\n      <th></th>\n      <th>ID_UNICO</th>\n      <th>DT_ABERTURA</th>\n      <th>DT_HOMOLOGACAO</th>\n      <th>NM_ORGAO</th>\n      <th>DS_OBJETO</th>\n      <th>DS_ITEM</th>\n      <th>QT_ITENS</th>\n      <th>VL_UNITARIO_HOMOLOGADO</th>\n      <th>VL_TOTAL_HOMOLOGADO</th>\n    </tr>\n  </thead>\n  <tbody>\n    <tr>\n      <th>1323983</th>\n      <td>45000_117.0_2019_PRP</td>\n      <td>0019-06-05</td>\n      <td>2019-06-07</td>\n      <td>PM DE CAXIAS DO SUL</td>\n      <td>Fornecimento de insumos para o laboratório de ...</td>\n      <td>CORANTE DE MAY GRÜNWALD:a) solução para colora...</td>\n      <td>40.00</td>\n      <td>NaN</td>\n      <td>NaN</td>\n    </tr>\n    <tr>\n      <th>1323984</th>\n      <td>45000_117.0_2019_PRP</td>\n      <td>0019-06-05</td>\n      <td>2019-06-07</td>\n      <td>PM DE CAXIAS DO SUL</td>\n      <td>Fornecimento de insumos para o laboratório de ...</td>\n      <td>LÂMINA EXTENSORA OU PARA ESFREGAÇO:a) para con...</td>\n      <td>3.00</td>\n      <td>NaN</td>\n      <td>NaN</td>\n    </tr>\n    <tr>\n      <th>1323985</th>\n      <td>45000_117.0_2019_PRP</td>\n      <td>0019-06-05</td>\n      <td>2019-06-07</td>\n      <td>PM DE CAXIAS DO SUL</td>\n      <td>Fornecimento de insumos para o laboratório de ...</td>\n      <td>TESTE PARA PESQUISA DE PCR, EM AMOSTRAS DE SOR...</td>\n      <td>9100.00</td>\n      <td>NaN</td>\n      <td>NaN</td>\n    </tr>\n    <tr>\n      <th>1323986</th>\n      <td>45000_117.0_2019_PRP</td>\n      <td>0019-06-05</td>\n      <td>2019-06-07</td>\n      <td>PM DE CAXIAS DO SUL</td>\n      <td>Fornecimento de insumos para o laboratório de ...</td>\n      <td>TESTE PARA PESQUISA DE FATOR REUMATÓIDE EM AMO...</td>\n      <td>6000.00</td>\n      <td>NaN</td>\n      <td>NaN</td>\n    </tr>\n    <tr>\n      <th>1323987</th>\n      <td>45000_117.0_2019_PRP</td>\n      <td>0019-06-05</td>\n      <td>2019-06-07</td>\n      <td>PM DE CAXIAS DO SUL</td>\n      <td>Fornecimento de insumos para o laboratório de ...</td>\n      <td>LÁPIS DERMATOGRÁFICO: a) cor: preta;b) possuir...</td>\n      <td>36.00</td>\n      <td>NaN</td>\n      <td>NaN</td>\n    </tr>\n    <tr>\n      <th>1323988</th>\n      <td>45000_117.0_2019_PRP</td>\n      <td>0019-06-05</td>\n      <td>2019-06-07</td>\n      <td>PM DE CAXIAS DO SUL</td>\n      <td>Fornecimento de insumos para o laboratório de ...</td>\n      <td>PAPEL FILTRO QUALITATIVO: a) dimensões: 50 x 5...</td>\n      <td>100.00</td>\n      <td>NaN</td>\n      <td>NaN</td>\n    </tr>\n    <tr>\n      <th>1323989</th>\n      <td>45000_117.0_2019_PRP</td>\n      <td>0019-06-05</td>\n      <td>2019-06-07</td>\n      <td>PM DE CAXIAS DO SUL</td>\n      <td>Fornecimento de insumos para o laboratório de ...</td>\n      <td>CORANTE DE HEMOGRAMA:a) compatível com o equip...</td>\n      <td>100.00</td>\n      <td>NaN</td>\n      <td>NaN</td>\n    </tr>\n    <tr>\n      <th>1323990</th>\n      <td>45000_117.0_2019_PRP</td>\n      <td>0019-06-05</td>\n      <td>2019-06-07</td>\n      <td>PM DE CAXIAS DO SUL</td>\n      <td>Fornecimento de insumos para o laboratório de ...</td>\n      <td>FRASCO COLETOR DE URINA 24 HORAS:a) corpo tran...</td>\n      <td>24.00</td>\n      <td>NaN</td>\n      <td>NaN</td>\n    </tr>\n    <tr>\n      <th>1323991</th>\n      <td>45000_117.0_2019_PRP</td>\n      <td>0019-06-05</td>\n      <td>2019-06-07</td>\n      <td>PM DE CAXIAS DO SUL</td>\n      <td>Fornecimento de insumos para o laboratório de ...</td>\n      <td>SULFATO DE BÁRIO:a) usado como contraste radio...</td>\n      <td>6.00</td>\n      <td>NaN</td>\n      <td>NaN</td>\n    </tr>\n    <tr>\n      <th>1323992</th>\n      <td>45000_117.0_2019_PRP</td>\n      <td>0019-06-05</td>\n      <td>2019-06-07</td>\n      <td>PM DE CAXIAS DO SUL</td>\n      <td>Fornecimento de insumos para o laboratório de ...</td>\n      <td>ÁLCOOL ABSOLUTO 99,5%:a) álcool anidro;b) usad...</td>\n      <td>120.00</td>\n      <td>NaN</td>\n      <td>NaN</td>\n    </tr>\n    <tr>\n      <th>1323993</th>\n      <td>45000_117.0_2019_PRP</td>\n      <td>0019-06-05</td>\n      <td>2019-06-07</td>\n      <td>PM DE CAXIAS DO SUL</td>\n      <td>Fornecimento de insumos para o laboratório de ...</td>\n      <td>EA-36 - CORANTE DE PAPANICOLAU PARA MICROSCOPI...</td>\n      <td>12.00</td>\n      <td>NaN</td>\n      <td>NaN</td>\n    </tr>\n    <tr>\n      <th>1323994</th>\n      <td>45000_117.0_2019_PRP</td>\n      <td>0019-06-05</td>\n      <td>2019-06-07</td>\n      <td>PM DE CAXIAS DO SUL</td>\n      <td>Fornecimento de insumos para o laboratório de ...</td>\n      <td>ORANGE G ? CORANTE DE PAPANICOLAU PARA MICROSC...</td>\n      <td>12.00</td>\n      <td>NaN</td>\n      <td>NaN</td>\n    </tr>\n    <tr>\n      <th>1323995</th>\n      <td>45000_117.0_2019_PRP</td>\n      <td>0019-06-05</td>\n      <td>2019-06-07</td>\n      <td>PM DE CAXIAS DO SUL</td>\n      <td>Fornecimento de insumos para o laboratório de ...</td>\n      <td>HEMATOXILINA DE HARRIS ? CORANTE DE PAPANICOLA...</td>\n      <td>12.00</td>\n      <td>NaN</td>\n      <td>NaN</td>\n    </tr>\n    <tr>\n      <th>1323996</th>\n      <td>45000_117.0_2019_PRP</td>\n      <td>0019-06-05</td>\n      <td>2019-06-07</td>\n      <td>PM DE CAXIAS DO SUL</td>\n      <td>Fornecimento de insumos para o laboratório de ...</td>\n      <td>TESTE RÁPIDO DE AGLUTINAÇÃO EM LÂMINA PARA IDE...</td>\n      <td>1400.00</td>\n      <td>NaN</td>\n      <td>NaN</td>\n    </tr>\n    <tr>\n      <th>1323997</th>\n      <td>45000_117.0_2019_PRP</td>\n      <td>0019-06-05</td>\n      <td>2019-06-07</td>\n      <td>PM DE CAXIAS DO SUL</td>\n      <td>Fornecimento de insumos para o laboratório de ...</td>\n      <td>ÓLEO MINERAL:a) frasco com 100 ml.</td>\n      <td>20.00</td>\n      <td>NaN</td>\n      <td>NaN</td>\n    </tr>\n    <tr>\n      <th>1323998</th>\n      <td>45000_117.0_2019_PRP</td>\n      <td>0019-06-05</td>\n      <td>2019-06-07</td>\n      <td>PM DE CAXIAS DO SUL</td>\n      <td>Fornecimento de insumos para o laboratório de ...</td>\n      <td>KIT DE TUBULAÇÃO (MANGUEIRAS) COMPATÍVEIS COM ...</td>\n      <td>4.00</td>\n      <td>NaN</td>\n      <td>NaN</td>\n    </tr>\n    <tr>\n      <th>1323999</th>\n      <td>45000_117.0_2019_PRP</td>\n      <td>0019-06-05</td>\n      <td>2019-06-07</td>\n      <td>PM DE CAXIAS DO SUL</td>\n      <td>Fornecimento de insumos para o laboratório de ...</td>\n      <td>TUBO CAPILAR SEM HEPARINA:a) tubo contendo 500...</td>\n      <td>12.00</td>\n      <td>NaN</td>\n      <td>NaN</td>\n    </tr>\n    <tr>\n      <th>1324000</th>\n      <td>45000_117.0_2019_PRP</td>\n      <td>0019-06-05</td>\n      <td>2019-06-07</td>\n      <td>PM DE CAXIAS DO SUL</td>\n      <td>Fornecimento de insumos para o laboratório de ...</td>\n      <td>GLICOSE ANIDRA PARA TESTE DE TOLERÂNCIA À GLIC...</td>\n      <td>120000.00</td>\n      <td>NaN</td>\n      <td>NaN</td>\n    </tr>\n    <tr>\n      <th>1324001</th>\n      <td>45000_117.0_2019_PRP</td>\n      <td>0019-06-05</td>\n      <td>2019-06-07</td>\n      <td>PM DE CAXIAS DO SUL</td>\n      <td>Fornecimento de insumos para o laboratório de ...</td>\n      <td>PESQUISA DE SANGUE OCULTO SEM DIETA:a) control...</td>\n      <td>1700.00</td>\n      <td>NaN</td>\n      <td>NaN</td>\n    </tr>\n    <tr>\n      <th>1324002</th>\n      <td>45000_117.0_2019_PRP</td>\n      <td>0019-06-05</td>\n      <td>2019-06-07</td>\n      <td>PM DE CAXIAS DO SUL</td>\n      <td>Fornecimento de insumos para o laboratório de ...</td>\n      <td>PÓ BRANCO D-LACTOSE P.A. MONO-HIDRATADA:a) par...</td>\n      <td>15000.00</td>\n      <td>NaN</td>\n      <td>NaN</td>\n    </tr>\n    <tr>\n      <th>1324003</th>\n      <td>45000_117.0_2019_PRP</td>\n      <td>0019-06-05</td>\n      <td>2019-06-07</td>\n      <td>PM DE CAXIAS DO SUL</td>\n      <td>Fornecimento de insumos para o laboratório de ...</td>\n      <td>TROMBOPLASTINA CÁLCICA PARA DETERMINAÇÃO DO TE...</td>\n      <td>650.00</td>\n      <td>NaN</td>\n      <td>NaN</td>\n    </tr>\n    <tr>\n      <th>1324004</th>\n      <td>45000_117.0_2019_PRP</td>\n      <td>0019-06-05</td>\n      <td>2019-06-07</td>\n      <td>PM DE CAXIAS DO SUL</td>\n      <td>Fornecimento de insumos para o laboratório de ...</td>\n      <td>REATIVOS PARA DETERMINAÇÃO DE TROMBOPLASTINA P...</td>\n      <td>400.00</td>\n      <td>NaN</td>\n      <td>NaN</td>\n    </tr>\n    <tr>\n      <th>1324005</th>\n      <td>45000_117.0_2019_PRP</td>\n      <td>0019-06-05</td>\n      <td>2019-06-07</td>\n      <td>PM DE CAXIAS DO SUL</td>\n      <td>Fornecimento de insumos para o laboratório de ...</td>\n      <td>TESTE PARA PESQUISA DE FATOR REUMATÓIDE EM AMO...</td>\n      <td>200.00</td>\n      <td>NaN</td>\n      <td>NaN</td>\n    </tr>\n    <tr>\n      <th>1324006</th>\n      <td>45000_117.0_2019_PRP</td>\n      <td>0019-06-05</td>\n      <td>2019-06-07</td>\n      <td>PM DE CAXIAS DO SUL</td>\n      <td>Fornecimento de insumos para o laboratório de ...</td>\n      <td>CORANTE GIEMSA:a) solução para coloração de es...</td>\n      <td>1.00</td>\n      <td>NaN</td>\n      <td>NaN</td>\n    </tr>\n    <tr>\n      <th>1324007</th>\n      <td>45000_117.0_2019_PRP</td>\n      <td>0019-06-05</td>\n      <td>2019-06-07</td>\n      <td>PM DE CAXIAS DO SUL</td>\n      <td>Fornecimento de insumos para o laboratório de ...</td>\n      <td>TESTE PARA PESQUISA DE ANTICORPOS HETERÓFILOS ...</td>\n      <td>200.0</td>\n      <td>0.95</td>\n      <td>190.0</td>\n    </tr>\n    <tr>\n      <th>1324008</th>\n      <td>45000_117.0_2019_PRP</td>\n      <td>0019-06-05</td>\n      <td>2019-06-07</td>\n      <td>PM DE CAXIAS DO SUL</td>\n      <td>Fornecimento de insumos para o laboratório de ...</td>\n      <td>TESTE DE VDRL:a) para detectar reagina ou anti...</td>\n      <td>2000.0</td>\n      <td>6.00</td>\n      <td>12000.0</td>\n    </tr>\n    <tr>\n      <th>1324009</th>\n      <td>45000_117.0_2019_PRP</td>\n      <td>0019-06-05</td>\n      <td>2019-06-07</td>\n      <td>PM DE CAXIAS DO SUL</td>\n      <td>Fornecimento de insumos para o laboratório de ...</td>\n      <td>TESTE PARA PESQUISA DE ANTIESTREPTOLISINA O EM...</td>\n      <td>600.0</td>\n      <td>0.90</td>\n      <td>540.0</td>\n    </tr>\n  </tbody>\n</table>\n</div>"
     },
     "execution_count": 38,
     "metadata": {},
     "output_type": "execute_result"
    }
   ],
   "source": [
    "df.query('DT_ABERTURA == \"0019-06-05\"')"
   ],
   "metadata": {
    "collapsed": false
   }
  },
  {
   "cell_type": "markdown",
   "source": [
    "Provavelmente no preenchimento trocaram 2019 por 0019"
   ],
   "metadata": {
    "collapsed": false
   }
  },
  {
   "cell_type": "code",
   "execution_count": 39,
   "outputs": [],
   "source": [
    "df.DT_ABERTURA.replace(\"0019-06-05\", \"2019-06-05\", inplace=True)"
   ],
   "metadata": {
    "collapsed": false
   }
  },
  {
   "cell_type": "code",
   "execution_count": 40,
   "outputs": [
    {
     "name": "stdout",
     "output_type": "stream",
     "text": [
      "Erro encontrado: Out of bounds nanosecond timestamp: 0219-02-28, at position 1047\n"
     ]
    }
   ],
   "source": [
    "change_column_type()"
   ],
   "metadata": {
    "collapsed": false
   }
  },
  {
   "cell_type": "code",
   "execution_count": 41,
   "outputs": [],
   "source": [
    "df.DT_ABERTURA.replace(\"0219-02-28\", \"2019-02-28\", inplace=True)"
   ],
   "metadata": {
    "collapsed": false
   }
  },
  {
   "cell_type": "code",
   "execution_count": 42,
   "outputs": [
    {
     "name": "stdout",
     "output_type": "stream",
     "text": [
      "Erro encontrado: Out of bounds nanosecond timestamp: 0019-05-17, at position 1047\n"
     ]
    }
   ],
   "source": [
    "change_column_type()"
   ],
   "metadata": {
    "collapsed": false
   }
  },
  {
   "cell_type": "code",
   "execution_count": 43,
   "outputs": [],
   "source": [
    "df.DT_ABERTURA.replace(\"0019-05-17\", \"2019-05-17\", inplace=True)"
   ],
   "metadata": {
    "collapsed": false
   }
  },
  {
   "cell_type": "code",
   "execution_count": 44,
   "outputs": [
    {
     "name": "stdout",
     "output_type": "stream",
     "text": [
      "Erro encontrado: could not convert string to float: '###############'\n"
     ]
    }
   ],
   "source": [
    "change_column_type()"
   ],
   "metadata": {
    "collapsed": false
   }
  },
  {
   "cell_type": "code",
   "execution_count": 45,
   "outputs": [
    {
     "data": {
      "text/plain": "                    ID_UNICO DT_ABERTURA DT_HOMOLOGACAO  \\\n774622  88004_193.0_2018_PRE  2018-07-16     2018-07-19   \n774623  88004_193.0_2018_PRE  2018-07-16     2018-07-19   \n\n                         NM_ORGAO  \\\n774622  SECRETARIA DA SAÚDE DO RS   \n774623  SECRETARIA DA SAÚDE DO RS   \n\n                                                DS_OBJETO  \\\n774622  SELEÇÃO DE FORNECEDORES PARA REGISTRO DE PREÇO...   \n774623  SELEÇÃO DE FORNECEDORES PARA REGISTRO DE PREÇO...   \n\n                                                  DS_ITEM         QT_ITENS  \\\n774622  DIETA HIPERCAL.S/LACT,SAC,GLUTEN 1.5CAL SIST A...  ###############   \n774623      DIETA NORMOCAL SEM LACT/SAC/GLUT SIST ABERTO.  ###############   \n\n        VL_UNITARIO_HOMOLOGADO VL_TOTAL_HOMOLOGADO  \n774622                  0.0101          28149912.0  \n774623                  0.0086          9959109.60  ",
      "text/html": "<div>\n<style scoped>\n    .dataframe tbody tr th:only-of-type {\n        vertical-align: middle;\n    }\n\n    .dataframe tbody tr th {\n        vertical-align: top;\n    }\n\n    .dataframe thead th {\n        text-align: right;\n    }\n</style>\n<table border=\"1\" class=\"dataframe\">\n  <thead>\n    <tr style=\"text-align: right;\">\n      <th></th>\n      <th>ID_UNICO</th>\n      <th>DT_ABERTURA</th>\n      <th>DT_HOMOLOGACAO</th>\n      <th>NM_ORGAO</th>\n      <th>DS_OBJETO</th>\n      <th>DS_ITEM</th>\n      <th>QT_ITENS</th>\n      <th>VL_UNITARIO_HOMOLOGADO</th>\n      <th>VL_TOTAL_HOMOLOGADO</th>\n    </tr>\n  </thead>\n  <tbody>\n    <tr>\n      <th>774622</th>\n      <td>88004_193.0_2018_PRE</td>\n      <td>2018-07-16</td>\n      <td>2018-07-19</td>\n      <td>SECRETARIA DA SAÚDE DO RS</td>\n      <td>SELEÇÃO DE FORNECEDORES PARA REGISTRO DE PREÇO...</td>\n      <td>DIETA HIPERCAL.S/LACT,SAC,GLUTEN 1.5CAL SIST A...</td>\n      <td>###############</td>\n      <td>0.0101</td>\n      <td>28149912.0</td>\n    </tr>\n    <tr>\n      <th>774623</th>\n      <td>88004_193.0_2018_PRE</td>\n      <td>2018-07-16</td>\n      <td>2018-07-19</td>\n      <td>SECRETARIA DA SAÚDE DO RS</td>\n      <td>SELEÇÃO DE FORNECEDORES PARA REGISTRO DE PREÇO...</td>\n      <td>DIETA NORMOCAL SEM LACT/SAC/GLUT SIST ABERTO.</td>\n      <td>###############</td>\n      <td>0.0086</td>\n      <td>9959109.60</td>\n    </tr>\n  </tbody>\n</table>\n</div>"
     },
     "execution_count": 45,
     "metadata": {},
     "output_type": "execute_result"
    }
   ],
   "source": [
    "df[df.QT_ITENS == \"###############\"]"
   ],
   "metadata": {
    "collapsed": false
   }
  },
  {
   "cell_type": "markdown",
   "source": [
    "Provávelmente houve erro no preenchimento.Vamos calcular a quantidade provável baseada no valor total e unitário"
   ],
   "metadata": {
    "collapsed": false
   }
  },
  {
   "cell_type": "code",
   "execution_count": null,
   "outputs": [],
   "source": [
    "qt_erro = df[df.QT_ITENS == \"###############\"]\n",
    "qt_erro['QT_PROVAVEL'] =  qt_erro['VL_TOTAL_HOMOLOGADO'].astype('float') / qt_erro['VL_UNITARIO_HOMOLOGADO'].astype('float')\n",
    "qt_erro.QT_PROVAVEL"
   ],
   "metadata": {
    "collapsed": false,
    "pycharm": {
     "is_executing": true
    }
   }
  },
  {
   "cell_type": "markdown",
   "source": [
    "Esses valores parecem errados. O ideal seria confirmar as transações. Nesse momento vou apenas retirar do dataset."
   ],
   "metadata": {
    "collapsed": false
   }
  },
  {
   "cell_type": "code",
   "execution_count": 47,
   "outputs": [],
   "source": [
    "df = df[df.QT_ITENS != \"###############\"]"
   ],
   "metadata": {
    "collapsed": false
   }
  },
  {
   "cell_type": "code",
   "execution_count": 48,
   "outputs": [
    {
     "name": "stdout",
     "output_type": "stream",
     "text": [
      "Erro encontrado: could not convert string to float: '###############'\n"
     ]
    }
   ],
   "source": [
    "change_column_type()"
   ],
   "metadata": {
    "collapsed": false
   }
  },
  {
   "cell_type": "markdown",
   "source": [
    "O mais provável é um erro no preenchimento do campo VL_UNITARIO_HOMOLOGADO. Vou substituir o valor total pelo valor unitário e calcular o valor unitário a partir da quantidade e do valor total.\n",
    "O correto nesse caso seria tentar entrar em contato com alguém que possa ajudar a conferir esse dado."
   ],
   "metadata": {
    "collapsed": false
   }
  },
  {
   "cell_type": "code",
   "execution_count": 49,
   "outputs": [
    {
     "data": {
      "text/plain": "                    ID_UNICO DT_ABERTURA DT_HOMOLOGACAO      NM_ORGAO  \\\n181050  63000_545.0_2016_PRE  2016-06-14     2016-07-28  PM DE VIAMÃO   \n\n                                                DS_OBJETO  \\\n181050  AQAUISIÇÃO DE GÊNEROS ALIMENTÍCIOS PARA ALIMEN...   \n\n                                                  DS_ITEM  QT_ITENS  \\\n181050  AÇÚCAR REFINADO COM COLORAÇÃO PRÓPRIA E UNIFOR...   33662.0   \n\n        VL_UNITARIO_HOMOLOGADO VL_TOTAL_HOMOLOGADO  \n181050                139199.0     ###############  ",
      "text/html": "<div>\n<style scoped>\n    .dataframe tbody tr th:only-of-type {\n        vertical-align: middle;\n    }\n\n    .dataframe tbody tr th {\n        vertical-align: top;\n    }\n\n    .dataframe thead th {\n        text-align: right;\n    }\n</style>\n<table border=\"1\" class=\"dataframe\">\n  <thead>\n    <tr style=\"text-align: right;\">\n      <th></th>\n      <th>ID_UNICO</th>\n      <th>DT_ABERTURA</th>\n      <th>DT_HOMOLOGACAO</th>\n      <th>NM_ORGAO</th>\n      <th>DS_OBJETO</th>\n      <th>DS_ITEM</th>\n      <th>QT_ITENS</th>\n      <th>VL_UNITARIO_HOMOLOGADO</th>\n      <th>VL_TOTAL_HOMOLOGADO</th>\n    </tr>\n  </thead>\n  <tbody>\n    <tr>\n      <th>181050</th>\n      <td>63000_545.0_2016_PRE</td>\n      <td>2016-06-14</td>\n      <td>2016-07-28</td>\n      <td>PM DE VIAMÃO</td>\n      <td>AQAUISIÇÃO DE GÊNEROS ALIMENTÍCIOS PARA ALIMEN...</td>\n      <td>AÇÚCAR REFINADO COM COLORAÇÃO PRÓPRIA E UNIFOR...</td>\n      <td>33662.0</td>\n      <td>139199.0</td>\n      <td>###############</td>\n    </tr>\n  </tbody>\n</table>\n</div>"
     },
     "execution_count": 49,
     "metadata": {},
     "output_type": "execute_result"
    }
   ],
   "source": [
    "df.query('VL_TOTAL_HOMOLOGADO == \"###############\"')"
   ],
   "metadata": {
    "collapsed": false
   }
  },
  {
   "cell_type": "markdown",
   "source": [
    "No campo de valor total homologado é provavel que o valor correto seja o que está no campo de valor total unitário. O ideal seria manter esses outliers e explorar junto ao cliente.\n",
    "Nesse caso não vou descartar o valor. Vou usar o valor da coluna VL_UNITARIO_HOMOLOGADO para preencher a coluna VL_TOTAL_HOMOLOGADO e então usar a quantidade para calcular o valor unitário."
   ],
   "metadata": {
    "collapsed": false
   }
  },
  {
   "cell_type": "code",
   "execution_count": 50,
   "outputs": [],
   "source": [
    "rows_to_replace = df.query('VL_TOTAL_HOMOLOGADO == \"###############\"').index"
   ],
   "metadata": {
    "collapsed": false
   }
  },
  {
   "cell_type": "code",
   "execution_count": 51,
   "outputs": [],
   "source": [
    "df.QT_ITENS = df.QT_ITENS.astype('float')"
   ],
   "metadata": {
    "collapsed": false
   }
  },
  {
   "cell_type": "code",
   "execution_count": 52,
   "outputs": [],
   "source": [
    "for row in rows_to_replace:\n",
    "    df.loc[row,'VL_TOTAL_HOMOLOGADO'] = df.loc[row,'VL_UNITARIO_HOMOLOGADO']\n",
    "    df.loc[row,'VL_UNITARIO_HOMOLOGADO'] = df.loc[row,'VL_TOTAL_HOMOLOGADO'] / df.loc[row,'QT_ITENS']"
   ],
   "metadata": {
    "collapsed": false
   }
  },
  {
   "cell_type": "code",
   "execution_count": 53,
   "outputs": [
    {
     "data": {
      "text/plain": "Empty DataFrame\nColumns: [ID_UNICO, DT_ABERTURA, DT_HOMOLOGACAO, NM_ORGAO, DS_OBJETO, DS_ITEM, QT_ITENS, VL_UNITARIO_HOMOLOGADO, VL_TOTAL_HOMOLOGADO]\nIndex: []",
      "text/html": "<div>\n<style scoped>\n    .dataframe tbody tr th:only-of-type {\n        vertical-align: middle;\n    }\n\n    .dataframe tbody tr th {\n        vertical-align: top;\n    }\n\n    .dataframe thead th {\n        text-align: right;\n    }\n</style>\n<table border=\"1\" class=\"dataframe\">\n  <thead>\n    <tr style=\"text-align: right;\">\n      <th></th>\n      <th>ID_UNICO</th>\n      <th>DT_ABERTURA</th>\n      <th>DT_HOMOLOGACAO</th>\n      <th>NM_ORGAO</th>\n      <th>DS_OBJETO</th>\n      <th>DS_ITEM</th>\n      <th>QT_ITENS</th>\n      <th>VL_UNITARIO_HOMOLOGADO</th>\n      <th>VL_TOTAL_HOMOLOGADO</th>\n    </tr>\n  </thead>\n  <tbody>\n  </tbody>\n</table>\n</div>"
     },
     "execution_count": 53,
     "metadata": {},
     "output_type": "execute_result"
    }
   ],
   "source": [
    "df.query('VL_TOTAL_HOMOLOGADO == \"###############\"')"
   ],
   "metadata": {
    "collapsed": false
   }
  },
  {
   "cell_type": "code",
   "execution_count": 54,
   "outputs": [],
   "source": [
    "change_column_type()"
   ],
   "metadata": {
    "collapsed": false
   }
  },
  {
   "cell_type": "code",
   "execution_count": 55,
   "outputs": [
    {
     "data": {
      "text/plain": "                      ID_UNICO DT_ABERTURA DT_HOMOLOGACAO  \\\n643475     67300_19.0_2017_PRE  2017-12-28     2018-03-27   \n643474     67300_19.0_2017_PRE  2017-12-28     2018-03-27   \n643476     67300_19.0_2017_PRE  2017-12-28     2018-03-27   \n643477     67300_19.0_2017_PRE  2017-12-28     2018-03-27   \n178179   45100_2704.0_2016_PRP  2016-08-24     2016-08-24   \n...                        ...         ...            ...   \n1396088     58800_7.0_2019_PRE  2019-02-14     2019-03-27   \n1396304     58800_4.0_2019_PRE  2019-02-06     2019-02-12   \n1396305    61800_29.0_2019_PRP  2019-05-13     2019-05-21   \n1396359    49200_77.0_2019_PRE  2019-05-30     2019-06-18   \n1396490    81000_27.0_2019_PRP  2019-05-29     2019-05-29   \n\n                          NM_ORGAO  \\\n643475     PM DE EUGÊNIO DE CASTRO   \n643474     PM DE EUGÊNIO DE CASTRO   \n643476     PM DE EUGÊNIO DE CASTRO   \n643477     PM DE EUGÊNIO DE CASTRO   \n178179           PM DE CERRO LARGO   \n...                            ...   \n1396088  PM DE SÃO LOURENÇO DO SUL   \n1396304  PM DE SÃO LOURENÇO DO SUL   \n1396305         PM DE TRÊS DE MAIO   \n1396359               PM DE GUAÍBA   \n1396490   PM DE SÃO PEDRO DA SERRA   \n\n                                                 DS_OBJETO  \\\n643475   AQUISIÇÃO DE VEÍCULOS DE TRANSPORTE ESCOLAR DI...   \n643474   AQUISIÇÃO DE VEÍCULOS DE TRANSPORTE ESCOLAR DI...   \n643476   AQUISIÇÃO DE VEÍCULOS DE TRANSPORTE ESCOLAR DI...   \n643477   AQUISIÇÃO DE VEÍCULOS DE TRANSPORTE ESCOLAR DI...   \n178179   AQUISIÇÃO EMULSÃO RM1C P/ RECUPERAÇÃO DAS VIAS...   \n...                                                    ...   \n1396088  AQUISIÇÃO DE FERRAMENTAS, CABOS DE AÇO E ELETR...   \n1396304  AQUISIÇÃO DE MATERIAL PARA DECORAÇÃO DO CARNAV...   \n1396305  AQUISIÇÃO DE MATERIAIS GRÁFICOS PARA USO NAS D...   \n1396359  AQUISICAO DE MATERIAIS PARA A VIGILANCIA AMBIE...   \n1396490  AQUISIÇÃO DE MATERIAL ELÉTRICO PARA GARANTIR A...   \n\n                                                   DS_ITEM  QT_ITENS  \\\n643475   ÔNIBUS RURAL ESCOLAR - ORE 3: ÔNIBUS COM COMPR...    1600.0   \n643474   ÔNIBUS RURAL ESCOLAR - ORE 2: ÔNIBUS COM COMPR...    1600.0   \n643476   ÔNIBUS RURAL ESCOLAR - ORE 1: ÔNIBUS COM COMPR...    1600.0   \n643477   ÔNIBUS RURAL ESCOLAR - ORE 1 (4X4): ÔNIBUS COM...     800.0   \n178179                              EMULSÃO ASFÁLTICA RM1C  100000.0   \n...                                                    ...       ...   \n1396088  PLAINA MANUAL, Nº 05, PROFISSIONAL, ELÉTRICA, ...       5.0   \n1396304            GRAMPOS PARA GRAMPEADORA, TAMANHO 80X10       2.0   \n1396305  FICHA DE VISITA (FEBRA AMARELA E DENGUE) BLOCO...     300.0   \n1396359                           LÁPIS DE COR 12 UNIDADES      50.0   \n1396490                      CAIXA 30X30 SOBREPOR PLÁSTICA      10.0   \n\n         VL_UNITARIO_HOMOLOGADO  VL_TOTAL_HOMOLOGADO  \n643475                 228912.0          366259200.0  \n643474                 226550.0          362480000.0  \n643476                 189900.0          303840000.0  \n643477                 271500.0          217200000.0  \n178179                   1989.0          198900000.0  \n...                         ...                  ...  \n1396088                     NaN                  NaN  \n1396304                     NaN                  NaN  \n1396305                     NaN                  NaN  \n1396359                     NaN                  NaN  \n1396490                     NaN                  NaN  \n\n[1396855 rows x 9 columns]",
      "text/html": "<div>\n<style scoped>\n    .dataframe tbody tr th:only-of-type {\n        vertical-align: middle;\n    }\n\n    .dataframe tbody tr th {\n        vertical-align: top;\n    }\n\n    .dataframe thead th {\n        text-align: right;\n    }\n</style>\n<table border=\"1\" class=\"dataframe\">\n  <thead>\n    <tr style=\"text-align: right;\">\n      <th></th>\n      <th>ID_UNICO</th>\n      <th>DT_ABERTURA</th>\n      <th>DT_HOMOLOGACAO</th>\n      <th>NM_ORGAO</th>\n      <th>DS_OBJETO</th>\n      <th>DS_ITEM</th>\n      <th>QT_ITENS</th>\n      <th>VL_UNITARIO_HOMOLOGADO</th>\n      <th>VL_TOTAL_HOMOLOGADO</th>\n    </tr>\n  </thead>\n  <tbody>\n    <tr>\n      <th>643475</th>\n      <td>67300_19.0_2017_PRE</td>\n      <td>2017-12-28</td>\n      <td>2018-03-27</td>\n      <td>PM DE EUGÊNIO DE CASTRO</td>\n      <td>AQUISIÇÃO DE VEÍCULOS DE TRANSPORTE ESCOLAR DI...</td>\n      <td>ÔNIBUS RURAL ESCOLAR - ORE 3: ÔNIBUS COM COMPR...</td>\n      <td>1600.0</td>\n      <td>228912.0</td>\n      <td>366259200.0</td>\n    </tr>\n    <tr>\n      <th>643474</th>\n      <td>67300_19.0_2017_PRE</td>\n      <td>2017-12-28</td>\n      <td>2018-03-27</td>\n      <td>PM DE EUGÊNIO DE CASTRO</td>\n      <td>AQUISIÇÃO DE VEÍCULOS DE TRANSPORTE ESCOLAR DI...</td>\n      <td>ÔNIBUS RURAL ESCOLAR - ORE 2: ÔNIBUS COM COMPR...</td>\n      <td>1600.0</td>\n      <td>226550.0</td>\n      <td>362480000.0</td>\n    </tr>\n    <tr>\n      <th>643476</th>\n      <td>67300_19.0_2017_PRE</td>\n      <td>2017-12-28</td>\n      <td>2018-03-27</td>\n      <td>PM DE EUGÊNIO DE CASTRO</td>\n      <td>AQUISIÇÃO DE VEÍCULOS DE TRANSPORTE ESCOLAR DI...</td>\n      <td>ÔNIBUS RURAL ESCOLAR - ORE 1: ÔNIBUS COM COMPR...</td>\n      <td>1600.0</td>\n      <td>189900.0</td>\n      <td>303840000.0</td>\n    </tr>\n    <tr>\n      <th>643477</th>\n      <td>67300_19.0_2017_PRE</td>\n      <td>2017-12-28</td>\n      <td>2018-03-27</td>\n      <td>PM DE EUGÊNIO DE CASTRO</td>\n      <td>AQUISIÇÃO DE VEÍCULOS DE TRANSPORTE ESCOLAR DI...</td>\n      <td>ÔNIBUS RURAL ESCOLAR - ORE 1 (4X4): ÔNIBUS COM...</td>\n      <td>800.0</td>\n      <td>271500.0</td>\n      <td>217200000.0</td>\n    </tr>\n    <tr>\n      <th>178179</th>\n      <td>45100_2704.0_2016_PRP</td>\n      <td>2016-08-24</td>\n      <td>2016-08-24</td>\n      <td>PM DE CERRO LARGO</td>\n      <td>AQUISIÇÃO EMULSÃO RM1C P/ RECUPERAÇÃO DAS VIAS...</td>\n      <td>EMULSÃO ASFÁLTICA RM1C</td>\n      <td>100000.0</td>\n      <td>1989.0</td>\n      <td>198900000.0</td>\n    </tr>\n    <tr>\n      <th>...</th>\n      <td>...</td>\n      <td>...</td>\n      <td>...</td>\n      <td>...</td>\n      <td>...</td>\n      <td>...</td>\n      <td>...</td>\n      <td>...</td>\n      <td>...</td>\n    </tr>\n    <tr>\n      <th>1396088</th>\n      <td>58800_7.0_2019_PRE</td>\n      <td>2019-02-14</td>\n      <td>2019-03-27</td>\n      <td>PM DE SÃO LOURENÇO DO SUL</td>\n      <td>AQUISIÇÃO DE FERRAMENTAS, CABOS DE AÇO E ELETR...</td>\n      <td>PLAINA MANUAL, Nº 05, PROFISSIONAL, ELÉTRICA, ...</td>\n      <td>5.0</td>\n      <td>NaN</td>\n      <td>NaN</td>\n    </tr>\n    <tr>\n      <th>1396304</th>\n      <td>58800_4.0_2019_PRE</td>\n      <td>2019-02-06</td>\n      <td>2019-02-12</td>\n      <td>PM DE SÃO LOURENÇO DO SUL</td>\n      <td>AQUISIÇÃO DE MATERIAL PARA DECORAÇÃO DO CARNAV...</td>\n      <td>GRAMPOS PARA GRAMPEADORA, TAMANHO 80X10</td>\n      <td>2.0</td>\n      <td>NaN</td>\n      <td>NaN</td>\n    </tr>\n    <tr>\n      <th>1396305</th>\n      <td>61800_29.0_2019_PRP</td>\n      <td>2019-05-13</td>\n      <td>2019-05-21</td>\n      <td>PM DE TRÊS DE MAIO</td>\n      <td>AQUISIÇÃO DE MATERIAIS GRÁFICOS PARA USO NAS D...</td>\n      <td>FICHA DE VISITA (FEBRA AMARELA E DENGUE) BLOCO...</td>\n      <td>300.0</td>\n      <td>NaN</td>\n      <td>NaN</td>\n    </tr>\n    <tr>\n      <th>1396359</th>\n      <td>49200_77.0_2019_PRE</td>\n      <td>2019-05-30</td>\n      <td>2019-06-18</td>\n      <td>PM DE GUAÍBA</td>\n      <td>AQUISICAO DE MATERIAIS PARA A VIGILANCIA AMBIE...</td>\n      <td>LÁPIS DE COR 12 UNIDADES</td>\n      <td>50.0</td>\n      <td>NaN</td>\n      <td>NaN</td>\n    </tr>\n    <tr>\n      <th>1396490</th>\n      <td>81000_27.0_2019_PRP</td>\n      <td>2019-05-29</td>\n      <td>2019-05-29</td>\n      <td>PM DE SÃO PEDRO DA SERRA</td>\n      <td>AQUISIÇÃO DE MATERIAL ELÉTRICO PARA GARANTIR A...</td>\n      <td>CAIXA 30X30 SOBREPOR PLÁSTICA</td>\n      <td>10.0</td>\n      <td>NaN</td>\n      <td>NaN</td>\n    </tr>\n  </tbody>\n</table>\n<p>1396855 rows × 9 columns</p>\n</div>"
     },
     "execution_count": 55,
     "metadata": {},
     "output_type": "execute_result"
    }
   ],
   "source": [
    "df.sort_values(by='VL_TOTAL_HOMOLOGADO', ascending = False)"
   ],
   "metadata": {
    "collapsed": false
   }
  },
  {
   "cell_type": "markdown",
   "source": [
    "Alguns items estão com valores que são incoerentes. Exemplo, colchão infantil à mais de 100 mil a unidade. O ideal seria conversar com uma pessoa que pudesse nos auxiliar sobre essas informações. Saber se a venda foi realizada e qual o valor real. Um outro exemplo é o registro de bermudas, onde o valor unitário registrado é de 37 mil."
   ],
   "metadata": {
    "collapsed": false
   }
  },
  {
   "cell_type": "code",
   "execution_count": 56,
   "outputs": [
    {
     "data": {
      "text/plain": "ID_UNICO                          object\nDT_ABERTURA               datetime64[ns]\nDT_HOMOLOGACAO            datetime64[ns]\nNM_ORGAO                          object\nDS_OBJETO                         object\nDS_ITEM                           object\nQT_ITENS                         float64\nVL_UNITARIO_HOMOLOGADO           float64\nVL_TOTAL_HOMOLOGADO              float64\ndtype: object"
     },
     "execution_count": 56,
     "metadata": {},
     "output_type": "execute_result"
    }
   ],
   "source": [
    "df.dtypes"
   ],
   "metadata": {
    "collapsed": false
   }
  },
  {
   "cell_type": "markdown",
   "source": [
    "## Valores nulos"
   ],
   "metadata": {
    "collapsed": false
   }
  },
  {
   "cell_type": "code",
   "execution_count": 57,
   "outputs": [
    {
     "data": {
      "text/plain": "ID_UNICO                       0\nDT_ABERTURA                    0\nDT_HOMOLOGACAO                 0\nNM_ORGAO                       0\nDS_OBJETO                      0\nDS_ITEM                        0\nQT_ITENS                       0\nVL_UNITARIO_HOMOLOGADO    138422\nVL_TOTAL_HOMOLOGADO       138422\ndtype: int64"
     },
     "execution_count": 57,
     "metadata": {},
     "output_type": "execute_result"
    }
   ],
   "source": [
    "df.isnull().sum()"
   ],
   "metadata": {
    "collapsed": false
   }
  },
  {
   "cell_type": "markdown",
   "source": [
    "Os dados nulos nos campos de valores homologados podem ser descartados"
   ],
   "metadata": {
    "collapsed": false
   }
  },
  {
   "cell_type": "code",
   "execution_count": 58,
   "outputs": [],
   "source": [
    "df = df.dropna()"
   ],
   "metadata": {
    "collapsed": false
   }
  },
  {
   "cell_type": "code",
   "execution_count": 59,
   "outputs": [],
   "source": [
    "df = df.reset_index(drop=True)"
   ],
   "metadata": {
    "collapsed": false
   }
  },
  {
   "cell_type": "markdown",
   "source": [
    "# Processamento de linguagem"
   ],
   "metadata": {
    "collapsed": false
   }
  },
  {
   "cell_type": "markdown",
   "source": [
    "Vou definir uma classe para buscar os objetos comprados da coluna DS_OBJETO"
   ],
   "metadata": {
    "collapsed": false
   }
  },
  {
   "cell_type": "code",
   "execution_count": 60,
   "outputs": [],
   "source": [
    "class Phrase:\n",
    "    \"\"\"\n",
    "    Class to handle natural language processing (npl).\n",
    "\n",
    "    Try to find pattern in text then do data cleaning base on the EXCLUDE_LIST (values to exclude).\n",
    "\n",
    "    \"\"\"\n",
    "\n",
    "    EXCLUDE_LIST  = ['aquisição', 'compra','registro','definição','seleção', 'pacote','gramas','preços', 'gêneros','preço','contratação', 'generos','fornecimento', 'precos','pregão', 'objeto','presente','edital','licitação', 'aquisicao', 'sistema', 'propostas', 'despesa', 'processo', 'pública','tipos','aquisições','contratacao','cotacao','fornecidos','solicitação','coleção','escolha','despesas','genêros','gêneros','compras','ãquisição', 'de gêneros', 'de preço', 'de preços', 'de generos', 'para aquisição', 'de empresa', 'de recapagens', 'para fornecimento', 'de', 'para', 'de empresa', 'para empresa', 'de expediente', 'dos preços', 'unitários', 'preços unitários']\n",
    "\n",
    "    nlp = spacy.load(\"pt_core_news_lg\")\n",
    "    matcher = Matcher(nlp.vocab)\n",
    "\n",
    "\n",
    "    def __init__(self, text:str):\n",
    "\n",
    "        self.phrase = self.nlp(text.lower())\n",
    "\n",
    "\n",
    "    def check_exclude_list(self,item_list: list)-> list:\n",
    "        \"\"\"\n",
    "\n",
    "        :param item_list: List of sentenses found in phrase\n",
    "        :return: input list without excluded words\n",
    "        \"\"\"\n",
    "        return [item for item in item_list if str(item) not in self.EXCLUDE_LIST]\n",
    "\n",
    "\n",
    "    def get_first_noun(self) -> list:\n",
    "        \"\"\"\n",
    "        Gets the first noun found on phrase, except the ones in excluded_list\n",
    "\n",
    "        :return: First noun found on phrase. If none is found returns NA\n",
    "        \"\"\"\n",
    "\n",
    "        output = []\n",
    "        for token in self.phrase:\n",
    "            if (token.pos_ in ['NOUN','ADJ']) & (token.text not in self.EXCLUDE_LIST):\n",
    "                output.append(token.text)\n",
    "        if len(output)>0:\n",
    "            return output\n",
    "        else:\n",
    "            return ['NA']\n",
    "\n",
    "\n",
    "    def get_phrase_pattern(self)->list:\n",
    "        \"\"\"\n",
    "        Finds pattern in phrase. Ex: noun followed by adjective\n",
    "\n",
    "        :return: List of found patterns\n",
    "        \"\"\"\n",
    "\n",
    "        pattern_1 = [{\"POS\":\"NOUN\"},{\"POS\":\"ADJ\"}]\n",
    "        pattern_2 = [{\"POS\":\"NOUN\"},{\"POS\":\"PROPN\"}]\n",
    "        pattern_3 = [{\"POS\":\"ADP\"},{\"POS\":\"NOUN\"}]\n",
    "\n",
    "        # Priority for patterns 1 and 2\n",
    "\n",
    "        self.matcher.add('pattern',[pattern_1,pattern_2])\n",
    "        matches = self.matcher(self.phrase)\n",
    "        output = []\n",
    "\n",
    "        # if patterns 1 and 2 are not found, tries pattern 3\n",
    "        if len(matches)<1:\n",
    "            self.matcher.add('pattern',[pattern_3])\n",
    "            matches = self.matcher(self.phrase)\n",
    "            for match_id, start, end in matches:\n",
    "                span = self.phrase[start:end]\n",
    "                output.append(span)\n",
    "            return output\n",
    "        else:\n",
    "            for match_id, start, end in matches:\n",
    "                span = self.phrase[start:end]\n",
    "                output.append(span)\n",
    "            return output\n",
    "\n",
    "\n",
    "    def get_phrase_object(self)->str:\n",
    "\n",
    "        \"\"\"\n",
    "        Finds objects on phrase.\n",
    "        Ex: ball, tires, food\n",
    "\n",
    "        \"\"\"\n",
    "\n",
    "        output = self.get_phrase_pattern()\n",
    "        output = self.check_exclude_list(output)\n",
    "\n",
    "        if len(output)>0:\n",
    "            return str(output[0][1])\n",
    "        else:\n",
    "            output = self.get_first_noun()\n",
    "            return str(output[0])\n",
    "\n"
   ],
   "metadata": {
    "collapsed": false
   }
  },
  {
   "cell_type": "markdown",
   "source": [
    "## Aplicação no dataset"
   ],
   "metadata": {
    "collapsed": false
   }
  },
  {
   "cell_type": "markdown",
   "source": [
    "## Amostra"
   ],
   "metadata": {
    "collapsed": false
   }
  },
  {
   "cell_type": "code",
   "execution_count": 61,
   "outputs": [
    {
     "data": {
      "text/plain": "(1258433, 9)"
     },
     "execution_count": 61,
     "metadata": {},
     "output_type": "execute_result"
    }
   ],
   "source": [
    "df.shape"
   ],
   "metadata": {
    "collapsed": false
   }
  },
  {
   "cell_type": "code",
   "execution_count": 62,
   "outputs": [
    {
     "data": {
      "text/plain": "(41173,)"
     },
     "execution_count": 62,
     "metadata": {},
     "output_type": "execute_result"
    }
   ],
   "source": [
    "df.DS_OBJETO.unique().shape"
   ],
   "metadata": {
    "collapsed": false
   }
  },
  {
   "cell_type": "code",
   "execution_count": 63,
   "outputs": [
    {
     "data": {
      "text/plain": "0.032717673487583365"
     },
     "execution_count": 63,
     "metadata": {},
     "output_type": "execute_result"
    }
   ],
   "source": [
    "df.DS_OBJETO.unique().shape[0]/df.shape[0]"
   ],
   "metadata": {
    "collapsed": false
   }
  },
  {
   "cell_type": "markdown",
   "source": [
    "Vou fazer o primeiro processamento em uma amostra pequena do dataset (1%). Isso vai dar uma ideia do resultado sem a necessidade de um grande volume de processamento nos dados.\n",
    "\n",
    "Dado que existem aproximadamente 1.200.000 registros, mas apenas cerca de 41.000 deles são únicos, não vou processar cada linha individualmente. A idéia é fazer como segue:\n",
    "\n",
    "- Processar apenas os valores únicos\n",
    "- Armazenar o resultado em um dicionário onde a chave é a frase original e o valor o resultado após processamento\n",
    "- Para cada observação, buscar o valor esperado no dicionário\n",
    "\n",
    "Com isso faremos o processamento utilizando linguagem natural de apenas `3%` do banco de dados, `economizando` tempo e recursos."
   ],
   "metadata": {
    "collapsed": false
   }
  },
  {
   "cell_type": "code",
   "execution_count": 64,
   "outputs": [],
   "source": [
    "df_sample = df.sample(n=1500)"
   ],
   "metadata": {
    "collapsed": false
   }
  },
  {
   "cell_type": "code",
   "execution_count": 65,
   "outputs": [],
   "source": [
    "df_sample = pd.DataFrame(df_sample)"
   ],
   "metadata": {
    "collapsed": false
   }
  },
  {
   "cell_type": "code",
   "execution_count": 66,
   "outputs": [],
   "source": [
    "obj_uniques = df_sample['DS_OBJETO'].unique()\n",
    "obj_uniques_size = obj_uniques.shape[0]"
   ],
   "metadata": {
    "collapsed": false
   }
  },
  {
   "cell_type": "code",
   "execution_count": 67,
   "outputs": [],
   "source": [
    "obj_size = df['DS_OBJETO'].unique().shape[0]"
   ],
   "metadata": {
    "collapsed": false
   }
  },
  {
   "cell_type": "code",
   "execution_count": 68,
   "outputs": [
    {
     "name": "stdout",
     "output_type": "stream",
     "text": [
      "29.632846117019653\n"
     ]
    }
   ],
   "source": [
    "time_1 = time()\n",
    "obj_dict = {}\n",
    "for obj in obj_uniques:\n",
    "   # obj_dict [obj] = get_phrase_object(obj)\n",
    "   obj_dict [obj] = Phrase(obj).get_phrase_object()\n",
    "df_sample['DS_OBJETO_RESUMIDO'] = df_sample['DS_OBJETO'].apply(lambda x: obj_dict[x])\n",
    "time_2 = time()\n",
    "total_time = time_2 - time_1\n",
    "print(total_time)"
   ],
   "metadata": {
    "collapsed": false
   }
  },
  {
   "cell_type": "code",
   "execution_count": 69,
   "outputs": [
    {
     "data": {
      "text/plain": "0.26664769061457516"
     },
     "execution_count": 69,
     "metadata": {},
     "output_type": "execute_result"
    }
   ],
   "source": [
    "# Tempo previsto em horas\n",
    "obj_size/obj_uniques_size*total_time/3600"
   ],
   "metadata": {
    "collapsed": false
   }
  },
  {
   "cell_type": "code",
   "execution_count": 70,
   "outputs": [
    {
     "data": {
      "text/plain": "DS_OBJETO_RESUMIDO\nmaterial        270\nmateriais       210\nalimentícios    171\nmedicamentos    141\npeças            48\n               ... \nambulatorial      1\ncalçados          1\nconstruçao        1\nbafômetro         1\ndemateriais       1\nName: count, Length: 213, dtype: int64"
     },
     "execution_count": 70,
     "metadata": {},
     "output_type": "execute_result"
    }
   ],
   "source": [
    "df_sample.DS_OBJETO_RESUMIDO.value_counts()"
   ],
   "metadata": {
    "collapsed": false
   }
  },
  {
   "cell_type": "markdown",
   "source": [
    "## Dataset completo"
   ],
   "metadata": {
    "collapsed": false
   }
  },
  {
   "cell_type": "code",
   "execution_count": 71,
   "outputs": [
    {
     "data": {
      "text/plain": "(41173,)"
     },
     "execution_count": 71,
     "metadata": {},
     "output_type": "execute_result"
    }
   ],
   "source": [
    "obj_uniques = df['DS_OBJETO'].unique()\n",
    "obj_uniques.shape"
   ],
   "metadata": {
    "collapsed": false
   }
  },
  {
   "cell_type": "code",
   "execution_count": 72,
   "outputs": [],
   "source": [
    "obj_dict = {}\n",
    "for obj in obj_uniques:\n",
    "    obj_dict[obj] = Phrase(obj).get_phrase_object()\n",
    "df['DS_OBJETO_RESUMIDO'] = df['DS_OBJETO'].apply(lambda x: obj_dict[x])"
   ],
   "metadata": {
    "collapsed": false
   }
  },
  {
   "cell_type": "markdown",
   "source": [
    "Para a coluna DS_ITEM, apenas o primeiro nome é necessário. Com isso economizamos processamento."
   ],
   "metadata": {
    "collapsed": false
   }
  },
  {
   "cell_type": "code",
   "execution_count": 73,
   "outputs": [
    {
     "data": {
      "text/plain": "             ID_UNICO DT_ABERTURA DT_HOMOLOGACAO                NM_ORGAO  \\\n0  84100_4.0_2016_CNV  2016-01-22     2016-01-29  PM DE ESPERANÇA DO SUL   \n1  84100_4.0_2016_CNV  2016-01-22     2016-01-29  PM DE ESPERANÇA DO SUL   \n2  84100_4.0_2016_CNV  2016-01-22     2016-01-29  PM DE ESPERANÇA DO SUL   \n3  84100_4.0_2016_CNV  2016-01-22     2016-01-29  PM DE ESPERANÇA DO SUL   \n4  84100_4.0_2016_CNV  2016-01-22     2016-01-29  PM DE ESPERANÇA DO SUL   \n5  84100_4.0_2016_CNV  2016-01-22     2016-01-29  PM DE ESPERANÇA DO SUL   \n6  84100_4.0_2016_CNV  2016-01-22     2016-01-29  PM DE ESPERANÇA DO SUL   \n7  84100_4.0_2016_CNV  2016-01-22     2016-01-29  PM DE ESPERANÇA DO SUL   \n8  84100_4.0_2016_CNV  2016-01-22     2016-01-29  PM DE ESPERANÇA DO SUL   \n9  84100_4.0_2016_CNV  2016-01-22     2016-01-29  PM DE ESPERANÇA DO SUL   \n\n                       DS_OBJETO                                   DS_ITEM  \\\n0  AQUISIÇÃO DE MERENDA ESCOLAR   BISCOITO DOCE MARIA PACOTE DE 700 GRAMAS   \n1  AQUISIÇÃO DE MERENDA ESCOLAR      BISCOITO SALGADO PACOTE DE 400 GRAMAS   \n2  AQUISIÇÃO DE MERENDA ESCOLAR             FARINHA DE TRIGO PACOTE DE 5KG   \n3  AQUISIÇÃO DE MERENDA ESCOLAR               AÇÚCAR CRISTAL PACOTE DE 5KG   \n4  AQUISIÇÃO DE MERENDA ESCOLAR      BISCOITO SALGADO PACOTE DE 400 GRAMAS   \n5  AQUISIÇÃO DE MERENDA ESCOLAR           DOCE DE LEITE POTE DE 400 GRAMAS   \n6  AQUISIÇÃO DE MERENDA ESCOLAR          ARROZ BRANCO TIPO 1 PACOTE DE 5KG   \n7  AQUISIÇÃO DE MERENDA ESCOLAR    FARINHA DE TRIGO INTEGRAL PACOTE DE 1KG   \n8  AQUISIÇÃO DE MERENDA ESCOLAR                         GELATINA 85 GRAMAS   \n9  AQUISIÇÃO DE MERENDA ESCOLAR    FARINHA DE TRIGO INTEGRAL PACOTE DE 1KG   \n\n   QT_ITENS  VL_UNITARIO_HOMOLOGADO  VL_TOTAL_HOMOLOGADO DS_OBJETO_RESUMIDO  \\\n0      72.0                    5.00               360.00            merenda   \n1      72.0                    3.61               259.92            merenda   \n2       4.0                    8.58                34.32            merenda   \n3       4.0                   12.35                49.40            merenda   \n4      60.0                    3.61               216.60            merenda   \n5      10.0                    2.89                28.90            merenda   \n6      20.0                   10.69               213.80            merenda   \n7       5.0                    2.49                12.45            merenda   \n8      40.0                    0.77                30.80            merenda   \n9       5.0                    2.49                12.45            merenda   \n\n  DS_ITEM_RESUMIDO  \n0         BISCOITO  \n1         BISCOITO  \n2          FARINHA  \n3           AÇÚCAR  \n4         BISCOITO  \n5             DOCE  \n6            ARROZ  \n7          FARINHA  \n8         GELATINA  \n9          FARINHA  ",
      "text/html": "<div>\n<style scoped>\n    .dataframe tbody tr th:only-of-type {\n        vertical-align: middle;\n    }\n\n    .dataframe tbody tr th {\n        vertical-align: top;\n    }\n\n    .dataframe thead th {\n        text-align: right;\n    }\n</style>\n<table border=\"1\" class=\"dataframe\">\n  <thead>\n    <tr style=\"text-align: right;\">\n      <th></th>\n      <th>ID_UNICO</th>\n      <th>DT_ABERTURA</th>\n      <th>DT_HOMOLOGACAO</th>\n      <th>NM_ORGAO</th>\n      <th>DS_OBJETO</th>\n      <th>DS_ITEM</th>\n      <th>QT_ITENS</th>\n      <th>VL_UNITARIO_HOMOLOGADO</th>\n      <th>VL_TOTAL_HOMOLOGADO</th>\n      <th>DS_OBJETO_RESUMIDO</th>\n      <th>DS_ITEM_RESUMIDO</th>\n    </tr>\n  </thead>\n  <tbody>\n    <tr>\n      <th>0</th>\n      <td>84100_4.0_2016_CNV</td>\n      <td>2016-01-22</td>\n      <td>2016-01-29</td>\n      <td>PM DE ESPERANÇA DO SUL</td>\n      <td>AQUISIÇÃO DE MERENDA ESCOLAR</td>\n      <td>BISCOITO DOCE MARIA PACOTE DE 700 GRAMAS</td>\n      <td>72.0</td>\n      <td>5.00</td>\n      <td>360.00</td>\n      <td>merenda</td>\n      <td>BISCOITO</td>\n    </tr>\n    <tr>\n      <th>1</th>\n      <td>84100_4.0_2016_CNV</td>\n      <td>2016-01-22</td>\n      <td>2016-01-29</td>\n      <td>PM DE ESPERANÇA DO SUL</td>\n      <td>AQUISIÇÃO DE MERENDA ESCOLAR</td>\n      <td>BISCOITO SALGADO PACOTE DE 400 GRAMAS</td>\n      <td>72.0</td>\n      <td>3.61</td>\n      <td>259.92</td>\n      <td>merenda</td>\n      <td>BISCOITO</td>\n    </tr>\n    <tr>\n      <th>2</th>\n      <td>84100_4.0_2016_CNV</td>\n      <td>2016-01-22</td>\n      <td>2016-01-29</td>\n      <td>PM DE ESPERANÇA DO SUL</td>\n      <td>AQUISIÇÃO DE MERENDA ESCOLAR</td>\n      <td>FARINHA DE TRIGO PACOTE DE 5KG</td>\n      <td>4.0</td>\n      <td>8.58</td>\n      <td>34.32</td>\n      <td>merenda</td>\n      <td>FARINHA</td>\n    </tr>\n    <tr>\n      <th>3</th>\n      <td>84100_4.0_2016_CNV</td>\n      <td>2016-01-22</td>\n      <td>2016-01-29</td>\n      <td>PM DE ESPERANÇA DO SUL</td>\n      <td>AQUISIÇÃO DE MERENDA ESCOLAR</td>\n      <td>AÇÚCAR CRISTAL PACOTE DE 5KG</td>\n      <td>4.0</td>\n      <td>12.35</td>\n      <td>49.40</td>\n      <td>merenda</td>\n      <td>AÇÚCAR</td>\n    </tr>\n    <tr>\n      <th>4</th>\n      <td>84100_4.0_2016_CNV</td>\n      <td>2016-01-22</td>\n      <td>2016-01-29</td>\n      <td>PM DE ESPERANÇA DO SUL</td>\n      <td>AQUISIÇÃO DE MERENDA ESCOLAR</td>\n      <td>BISCOITO SALGADO PACOTE DE 400 GRAMAS</td>\n      <td>60.0</td>\n      <td>3.61</td>\n      <td>216.60</td>\n      <td>merenda</td>\n      <td>BISCOITO</td>\n    </tr>\n    <tr>\n      <th>5</th>\n      <td>84100_4.0_2016_CNV</td>\n      <td>2016-01-22</td>\n      <td>2016-01-29</td>\n      <td>PM DE ESPERANÇA DO SUL</td>\n      <td>AQUISIÇÃO DE MERENDA ESCOLAR</td>\n      <td>DOCE DE LEITE POTE DE 400 GRAMAS</td>\n      <td>10.0</td>\n      <td>2.89</td>\n      <td>28.90</td>\n      <td>merenda</td>\n      <td>DOCE</td>\n    </tr>\n    <tr>\n      <th>6</th>\n      <td>84100_4.0_2016_CNV</td>\n      <td>2016-01-22</td>\n      <td>2016-01-29</td>\n      <td>PM DE ESPERANÇA DO SUL</td>\n      <td>AQUISIÇÃO DE MERENDA ESCOLAR</td>\n      <td>ARROZ BRANCO TIPO 1 PACOTE DE 5KG</td>\n      <td>20.0</td>\n      <td>10.69</td>\n      <td>213.80</td>\n      <td>merenda</td>\n      <td>ARROZ</td>\n    </tr>\n    <tr>\n      <th>7</th>\n      <td>84100_4.0_2016_CNV</td>\n      <td>2016-01-22</td>\n      <td>2016-01-29</td>\n      <td>PM DE ESPERANÇA DO SUL</td>\n      <td>AQUISIÇÃO DE MERENDA ESCOLAR</td>\n      <td>FARINHA DE TRIGO INTEGRAL PACOTE DE 1KG</td>\n      <td>5.0</td>\n      <td>2.49</td>\n      <td>12.45</td>\n      <td>merenda</td>\n      <td>FARINHA</td>\n    </tr>\n    <tr>\n      <th>8</th>\n      <td>84100_4.0_2016_CNV</td>\n      <td>2016-01-22</td>\n      <td>2016-01-29</td>\n      <td>PM DE ESPERANÇA DO SUL</td>\n      <td>AQUISIÇÃO DE MERENDA ESCOLAR</td>\n      <td>GELATINA 85 GRAMAS</td>\n      <td>40.0</td>\n      <td>0.77</td>\n      <td>30.80</td>\n      <td>merenda</td>\n      <td>GELATINA</td>\n    </tr>\n    <tr>\n      <th>9</th>\n      <td>84100_4.0_2016_CNV</td>\n      <td>2016-01-22</td>\n      <td>2016-01-29</td>\n      <td>PM DE ESPERANÇA DO SUL</td>\n      <td>AQUISIÇÃO DE MERENDA ESCOLAR</td>\n      <td>FARINHA DE TRIGO INTEGRAL PACOTE DE 1KG</td>\n      <td>5.0</td>\n      <td>2.49</td>\n      <td>12.45</td>\n      <td>merenda</td>\n      <td>FARINHA</td>\n    </tr>\n  </tbody>\n</table>\n</div>"
     },
     "execution_count": 73,
     "metadata": {},
     "output_type": "execute_result"
    }
   ],
   "source": [
    "df['DS_ITEM_RESUMIDO'] = df['DS_ITEM'].apply(lambda x: x.split()[0].upper())\n",
    "df.head(10)"
   ],
   "metadata": {
    "collapsed": false
   }
  },
  {
   "cell_type": "markdown",
   "source": [
    "### Explorando as novas colunas"
   ],
   "metadata": {
    "collapsed": false
   }
  },
  {
   "cell_type": "code",
   "execution_count": 74,
   "outputs": [
    {
     "data": {
      "text/plain": "DS_OBJETO_RESUMIDO\nmaterial        213107\nmateriais       181948\nalimentícios    152453\nmedicamentos    128192\npeças            42027\n                 ...  \ncodepas              1\nprincipal            1\nimovel               1\nhidratante           1\narmarios             1\nName: count, Length: 3228, dtype: int64"
     },
     "execution_count": 74,
     "metadata": {},
     "output_type": "execute_result"
    }
   ],
   "source": [
    "df['DS_OBJETO_RESUMIDO'].value_counts()"
   ],
   "metadata": {
    "collapsed": false
   }
  },
  {
   "cell_type": "code",
   "execution_count": 75,
   "outputs": [
    {
     "data": {
      "text/plain": "DS_ITEM_RESUMIDO\nPAPEL                21091\nPNEU                 17705\nFITA                 13406\nFILTRO               13265\nLUVA                 12597\n                     ...  \nGLICOSAMINA,SULF.        1\nFÓRMULA/                 1\nGAZIA                    1\nESTAMPAS                 1\nVULCANISAÇÃO             1\nName: count, Length: 27417, dtype: int64"
     },
     "execution_count": 75,
     "metadata": {},
     "output_type": "execute_result"
    }
   ],
   "source": [
    "df['DS_ITEM_RESUMIDO'].value_counts()"
   ],
   "metadata": {
    "collapsed": false
   }
  },
  {
   "cell_type": "code",
   "execution_count": 76,
   "outputs": [],
   "source": [
    "# Alterando alguns sinonimos na coluna DS_OBJETO_RESUMIDO\n",
    "\n",
    "df.DS_OBJETO_RESUMIDO = df.DS_OBJETO_RESUMIDO.replace('materiais', 'material')\n",
    "df.DS_OBJETO_RESUMIDO = df.DS_OBJETO_RESUMIDO.replace(['alimenticios', 'alimentícios', 'alimentos', 'merenda'], 'alimento')"
   ],
   "metadata": {
    "collapsed": false
   }
  },
  {
   "cell_type": "code",
   "execution_count": 77,
   "outputs": [
    {
     "data": {
      "text/plain": "DS_OBJETO_RESUMIDO\nmaterial        395055\nalimento        200035\nmedicamentos    128192\npeças            42027\nequipamentos     36500\n                 ...  \ntransdutor           1\ncodepas              1\nprincipal            1\nimovel               1\nlixos                1\nName: count, Length: 3223, dtype: int64"
     },
     "execution_count": 77,
     "metadata": {},
     "output_type": "execute_result"
    }
   ],
   "source": [
    "df['DS_OBJETO_RESUMIDO'].value_counts()"
   ],
   "metadata": {
    "collapsed": false
   }
  },
  {
   "cell_type": "code",
   "execution_count": 78,
   "outputs": [],
   "source": [
    "# Salva o novo dataset na pasta atual\n",
    "df.to_csv(os.path.join(PATH_CURRENT_DIRECTORY,'dataset.csv'), index_label=False)"
   ],
   "metadata": {
    "collapsed": false
   }
  }
 ],
 "metadata": {
  "kernelspec": {
   "display_name": "Python 3",
   "language": "python",
   "name": "python3"
  },
  "language_info": {
   "codemirror_mode": {
    "name": "ipython",
    "version": 2
   },
   "file_extension": ".py",
   "mimetype": "text/x-python",
   "name": "python",
   "nbconvert_exporter": "python",
   "pygments_lexer": "ipython2",
   "version": "2.7.6"
  }
 },
 "nbformat": 4,
 "nbformat_minor": 0
}
